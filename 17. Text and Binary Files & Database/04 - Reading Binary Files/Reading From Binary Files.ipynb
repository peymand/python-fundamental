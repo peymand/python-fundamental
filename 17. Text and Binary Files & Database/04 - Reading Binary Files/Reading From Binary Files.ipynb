{
 "cells": [
  {
   "cell_type": "code",
   "execution_count": null,
   "id": "initial_id",
   "metadata": {
    "collapsed": true
   },
   "outputs": [],
   "source": []
  },
  {
   "cell_type": "code",
   "execution_count": 1,
   "outputs": [
    {
     "name": "stdout",
     "output_type": "stream",
     "text": [
      "{'name': 'John', 'age': 30, 'city': 'New York'}\n"
     ]
    }
   ],
   "source": [
    "import pickle\n",
    "\n",
    "# Object to be stored in the file\n",
    "data = {'name': 'John', 'age': 30, 'city': 'New York'}\n",
    "\n",
    "# Storing the object in binary file\n",
    "with open('example.pickle', 'wb') as file:\n",
    "    pickle.dump(data, file)\n",
    "\n",
    "# Reading the object from binary file and printing it\n",
    "with open('example.pickle', 'rb') as file:\n",
    "    loaded_data = pickle.load(file)\n",
    "    print(loaded_data)"
   ],
   "metadata": {
    "collapsed": false,
    "ExecuteTime": {
     "end_time": "2024-02-26T20:37:39.235888500Z",
     "start_time": "2024-02-26T20:37:39.219245400Z"
    }
   },
   "id": "793df1c784037d2f"
  },
  {
   "cell_type": "code",
   "execution_count": null,
   "outputs": [],
   "source": [],
   "metadata": {
    "collapsed": false
   },
   "id": "94b8ebb97e44d433"
  }
 ],
 "metadata": {
  "kernelspec": {
   "display_name": "Python 3",
   "language": "python",
   "name": "python3"
  },
  "language_info": {
   "codemirror_mode": {
    "name": "ipython",
    "version": 2
   },
   "file_extension": ".py",
   "mimetype": "text/x-python",
   "name": "python",
   "nbconvert_exporter": "python",
   "pygments_lexer": "ipython2",
   "version": "2.7.6"
  }
 },
 "nbformat": 4,
 "nbformat_minor": 5
}
