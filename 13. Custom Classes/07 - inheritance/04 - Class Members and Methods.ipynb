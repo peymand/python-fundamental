{
 "cells": [
  {
   "cell_type": "code",
   "execution_count": 1,
   "id": "initial_id",
   "metadata": {
    "collapsed": true,
    "ExecuteTime": {
     "end_time": "2024-02-18T12:35:11.003526Z",
     "start_time": "2024-02-18T12:35:10.982287300Z"
    }
   },
   "outputs": [],
   "source": [
    "import datetime\n",
    "class Employee(object):\n",
    "    \n",
    "    raise_amount=1.05\n",
    "    \n",
    "    def __init__(self,first,last,pay):\n",
    "        self.first = first\n",
    "        self.last  = last\n",
    "        self.pay   = pay\n",
    "        self.email = self.first+\".\"+self.last+\"@company.com\"\n",
    "    \n",
    "    def fullname(self):\n",
    "        return \"{} {}\".format(self.first,self.last)\n",
    "        \n",
    "    def apply_raise(self):\n",
    "        self.pay = self.pay*Employee.raise_amount # Every class variable is accessed using the class name\n",
    "        return self.pay\n",
    "    \n",
    "    # To convert a method into a classmethod we use the decorator @classmethod to tell the interpreter\n",
    "    # that the method is a class method. Class methods can modify the state of the class and can be accessed by instances as well.\n",
    "    @classmethod\n",
    "    def set_raise_amount(cls,amount):\n",
    "        \"\"\"\n",
    "        classmethod set_raise_amount\n",
    "        ----------------------------\n",
    "        cls      : Is the class instance, just like instance methods refer to the instance as 'self'\n",
    "                   a classmethod has a class object referred as 'cls'.\n",
    "        amount   : amount \"\"\"\n",
    "        \n",
    "        cls.raise_amount = amount\n",
    "        \n",
    "    # Class methods can also be used as alternative constructors or factory methods to instantiate objects of the class\n",
    "    @classmethod\n",
    "    def from_string(cls, emp_string):\n",
    "        first,last,pay = emp_string.split(\"-\")\n",
    "        return cls(first,last,int(pay)) # This statements creates instances of the class, here the class is referred as 'cls'\n",
    "        # we can use any other class name to create instance of the other class as well.\n",
    "        # Hence, we can say that a class method also acts as an alternative constructor or a factory method.\n",
    "        \n",
    "        \n",
    "    # Static methods do not have access to the class object 'cls' or the instance 'self'.\n",
    "    # They are kept in the class because they are logically related to the class. They are defined using \"@staticmethod\" decorator.\n",
    "    \n",
    "    @staticmethod\n",
    "    def is_weekday(day):\n",
    "        if day.weekday() == 5 or day.weekday() == 6:\n",
    "            return False\n",
    "        return True"
   ]
  },
  {
   "cell_type": "code",
   "execution_count": 11,
   "outputs": [
    {
     "data": {
      "text/plain": "'Sarvagya Dubey'"
     },
     "execution_count": 11,
     "metadata": {},
     "output_type": "execute_result"
    }
   ],
   "source": [
    "emp = Employee(\"Sarvagya\",\"Dubey\",75000)\n",
    "emp.raise_amount"
   ],
   "metadata": {
    "collapsed": false,
    "ExecuteTime": {
     "end_time": "2024-02-18T13:05:06.237601900Z",
     "start_time": "2024-02-18T13:05:06.177009400Z"
    }
   },
   "id": "1f54a9d3e6386bf9"
  },
  {
   "cell_type": "code",
   "execution_count": 10,
   "outputs": [
    {
     "data": {
      "text/plain": "False"
     },
     "execution_count": 10,
     "metadata": {},
     "output_type": "execute_result"
    }
   ],
   "source": [
    "emp.raise_amount = 10\n",
    "emp.is_weekday(datetime.date.today())"
   ],
   "metadata": {
    "collapsed": false,
    "ExecuteTime": {
     "end_time": "2024-02-18T12:54:56.289359100Z",
     "start_time": "2024-02-18T12:54:56.269339500Z"
    }
   },
   "id": "29f1f2036f989c46"
  },
  {
   "cell_type": "code",
   "execution_count": 8,
   "outputs": [
    {
     "data": {
      "text/plain": "1.25"
     },
     "execution_count": 8,
     "metadata": {},
     "output_type": "execute_result"
    }
   ],
   "source": [
    "Employee.raise_amount"
   ],
   "metadata": {
    "collapsed": false,
    "ExecuteTime": {
     "end_time": "2024-02-18T12:52:43.391887500Z",
     "start_time": "2024-02-18T12:52:43.377364600Z"
    }
   },
   "id": "139d3f7c1a73f61a"
  },
  {
   "cell_type": "code",
   "execution_count": 9,
   "outputs": [
    {
     "data": {
      "text/plain": "{'first': 'Sarvagya',\n 'last': 'Dubey',\n 'pay': 75000,\n 'email': 'Sarvagya.Dubey@company.com',\n 'raise_amount': 10}"
     },
     "execution_count": 9,
     "metadata": {},
     "output_type": "execute_result"
    }
   ],
   "source": [
    "emp.__dict__"
   ],
   "metadata": {
    "collapsed": false,
    "ExecuteTime": {
     "end_time": "2024-02-18T12:53:14.393882200Z",
     "start_time": "2024-02-18T12:53:14.364451100Z"
    }
   },
   "id": "671f13521f9f8d8e"
  },
  {
   "cell_type": "code",
   "execution_count": 3,
   "outputs": [
    {
     "name": "stdout",
     "output_type": "stream",
     "text": [
      ".-.-.-.-.-.-.-.-.-.-.-.-.-.-.-.-.-.-.-.-.-.-.-.-.-.-.-.-.-.-.-.-.-.-.-.-.-.-.-.-.-.-.-.-.-.-.-.-.-.-.-.-.-.-.-\n",
      "****************************************************************************************************\n",
      "Invoking the classmethod \"set_raise_amount\" \n",
      "1.15\n",
      "1.15\n",
      "---------------------------------------------------------------\n",
      "\n",
      "Invoking classmethod \"from_string\" and creating class instance \n",
      "\n",
      "---------------------------------------------------------------\n",
      "\n",
      "************************************************\n",
      "EMPLOYEE DETAILS :                             *\n",
      "************************************************\n",
      "Employee Name   : Anuj Dubey\n",
      "Email           : Anuj.Dubey@company.com\n",
      "Salary          : 50000\n",
      "************************************************\n",
      "\n",
      "---------------------------------------------------------------\n",
      "\n",
      "Class variable \"set_raise_amount \"    : 1.15 \n",
      "Instance variable \"set_raise_amount\" : 1.15 \n",
      "Invoking class method \"set_raise_amount through an instance \" \n",
      "\n",
      "---------------------------------------------------------------\n",
      "After invoking class method using instance : \n",
      "Class variable \"set_raise_amount \"    : 1.25 \n",
      "Instance variable \"set_raise_amount\" : 1.25 \n",
      "\n",
      "---------------------------------------------------------------\n",
      "\n",
      "Invoking staticmethod \"is_weekday \" \n",
      "\n",
      "---------------------------------------------------------------\n",
      "\n",
      "Is today a weekday ? : False \n",
      "\n",
      "---------------------------------------------------------------\n",
      "****************************************************************************************************\n",
      ".-.-.-.-.-.-.-.-.-.-.-.-.-.-.-.-.-.-.-.-.-.-.-.-.-.-.-.-.-.-.-.-.-.-.-.-.-.-.-.-.-.-.-.-.-.-.-.-.-.-.-.-.-.-.-\n"
     ]
    }
   ],
   "source": [
    "print(\".-\"*55)\n",
    "print(\"*\"*100)\n",
    "emp = Employee(\"Sarvagya\",\"Dubey\",75000)\n",
    "print(\"Invoking the classmethod \\\"set_raise_amount\\\" \")\n",
    "Employee.set_raise_amount(1.15) # The class reference is used to invoke class methods.\n",
    "print(emp.raise_amount)\n",
    "print(Employee.raise_amount)\n",
    "print(\"---------------------------------------------------------------\\n\")\n",
    "print(\"Invoking classmethod \\\"from_string\\\" and creating class instance \\n\")\n",
    "print(\"---------------------------------------------------------------\")\n",
    "print()\n",
    "emp2 = Employee.from_string(\"Anuj-Dubey-50000\")\n",
    "print(\"************************************************\")\n",
    "print(\"EMPLOYEE DETAILS :                             *\")\n",
    "print(\"************************************************\")\n",
    "print(f\"Employee Name   : {emp2.fullname()}\")\n",
    "print(f\"Email           : {emp2.email}\")\n",
    "print(f\"Salary          : {emp2.pay}\")\n",
    "print(\"************************************************\")\n",
    "print()\n",
    "print(\"---------------------------------------------------------------\\n\")\n",
    "print(f\"Class variable \\\"set_raise_amount \\\"    : {Employee.raise_amount} \")\n",
    "print(f\"Instance variable \\\"set_raise_amount\\\" : {emp2.raise_amount} \")\n",
    "print(\"Invoking class method \\\"set_raise_amount through an instance \\\" \\n\")\n",
    "print(\"---------------------------------------------------------------\")\n",
    "emp2.set_raise_amount(1.25)\n",
    "print(\"After invoking class method using instance : \")\n",
    "print(f\"Class variable \\\"set_raise_amount \\\"    : {Employee.raise_amount} \") # It can be veified that the instance changes the class variables\n",
    "print(f\"Instance variable \\\"set_raise_amount\\\" : {emp2.raise_amount} \")\n",
    "print()\n",
    "print(\"---------------------------------------------------------------\\n\")\n",
    "print(\"Invoking staticmethod \\\"is_weekday \\\" \\n\")\n",
    "print(\"---------------------------------------------------------------\")\n",
    "print()\n",
    "today = datetime.date.today()\n",
    "is_a_weekday = Employee.is_weekday(today)\n",
    "print(f\"Is today a weekday ? : {is_a_weekday} \\n\")\n",
    "print(\"---------------------------------------------------------------\")\n",
    "print(\"*\"*100)\n",
    "print(\".-\"*55)"
   ],
   "metadata": {
    "collapsed": false,
    "ExecuteTime": {
     "end_time": "2024-02-18T12:37:13.041078800Z",
     "start_time": "2024-02-18T12:37:13.023544400Z"
    }
   },
   "id": "4d67bff9718bb17d"
  },
  {
   "cell_type": "code",
   "execution_count": 3,
   "outputs": [],
   "source": [],
   "metadata": {
    "collapsed": false,
    "ExecuteTime": {
     "end_time": "2024-02-18T12:37:13.090017400Z",
     "start_time": "2024-02-18T12:37:13.037669900Z"
    }
   },
   "id": "6fd46a403fb844e1"
  },
  {
   "cell_type": "code",
   "execution_count": null,
   "outputs": [],
   "source": [],
   "metadata": {
    "collapsed": false
   },
   "id": "317f1dfcf5a93794"
  }
 ],
 "metadata": {
  "kernelspec": {
   "display_name": "Python 3",
   "language": "python",
   "name": "python3"
  },
  "language_info": {
   "codemirror_mode": {
    "name": "ipython",
    "version": 2
   },
   "file_extension": ".py",
   "mimetype": "text/x-python",
   "name": "python",
   "nbconvert_exporter": "python",
   "pygments_lexer": "ipython2",
   "version": "2.7.6"
  }
 },
 "nbformat": 4,
 "nbformat_minor": 5
}
