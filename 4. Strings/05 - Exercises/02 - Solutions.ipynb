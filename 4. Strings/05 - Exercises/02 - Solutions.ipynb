{
 "cells": [
  {
   "cell_type": "markdown",
   "id": "3823695b",
   "metadata": {},
   "source": [
    "### Solutions"
   ]
  },
  {
   "cell_type": "markdown",
   "id": "71d85cb8",
   "metadata": {},
   "source": [
    "#### Question 1"
   ]
  },
  {
   "cell_type": "markdown",
   "id": "ccb709b1",
   "metadata": {},
   "source": [
    "Given this string of comma separated characters, create three new variables containing the unicode codepoint (in hex), uppercase and lower case versions of each character (also comma delimited).\n",
    "\n",
    "For example, if the string was `'a, b, c'` you should generate three lists that look like:\n",
    "* `['0x61', '0x62', '0x63']`\n",
    "* `['a', 'b', 'c']`\n",
    "* `['A', 'B', 'C']`\n",
    "\n",
    "[You should use the `split()` and `strip()` functions, amongst others, to help you solve this.]"
   ]
  },
  {
   "cell_type": "code",
   "execution_count": 1,
   "id": "8574f88b",
   "metadata": {},
   "outputs": [],
   "source": [
    "s = 'Π, ύ, θ, ω, ν'"
   ]
  },
  {
   "cell_type": "markdown",
   "id": "18c25b67",
   "metadata": {},
   "source": [
    "##### Solution"
   ]
  },
  {
   "cell_type": "markdown",
   "id": "13ae2cd1",
   "metadata": {},
   "source": [
    "First we'll split this string on the comma to get a list of the individual characters:"
   ]
  },
  {
   "cell_type": "code",
   "execution_count": 2,
   "id": "340adb2c",
   "metadata": {},
   "outputs": [],
   "source": [
    "chars = s.split(',')\n",
    "chars"
   ]
  },
  {
   "cell_type": "markdown",
   "id": "3e11d8b6",
   "metadata": {},
   "source": [
    "Note that some of these strings have an extra space, so we'll need to strip it. Instead of creating a new list with the stripped characters, we'll just re-use the same `chars` list, replacing elements in the list:"
   ]
  },
  {
   "cell_type": "code",
   "execution_count": 3,
   "id": "c9176daf",
   "metadata": {},
   "outputs": [],
   "source": [
    "chars[0] = chars[0].strip()\n",
    "chars[1] = chars[1].strip()\n",
    "chars[2] = chars[2].strip()\n",
    "chars[3] = chars[3].strip()\n",
    "chars[4] = chars[4].strip()\n",
    "\n",
    "chars"
   ]
  },
  {
   "cell_type": "markdown",
   "id": "41a19143",
   "metadata": {},
   "source": [
    "Let's look at the first letter:"
   ]
  },
  {
   "cell_type": "code",
   "execution_count": 4,
   "id": "8c561ad2",
   "metadata": {},
   "outputs": [],
   "source": [
    "chars[0]"
   ]
  },
  {
   "cell_type": "markdown",
   "id": "be5b6710",
   "metadata": {},
   "source": [
    "To find the unicode codepoint, we use the `ord()` function:"
   ]
  },
  {
   "cell_type": "code",
   "execution_count": 5,
   "id": "681a177e",
   "metadata": {},
   "outputs": [],
   "source": [
    "ord(chars[0])"
   ]
  },
  {
   "cell_type": "markdown",
   "id": "41600c11",
   "metadata": {},
   "source": [
    "To find the hex of that unicode code point, we use the `hex()` function:"
   ]
  },
  {
   "cell_type": "code",
   "execution_count": 6,
   "id": "c7cf0626",
   "metadata": {},
   "outputs": [],
   "source": [
    "hex(ord(chars[0]))"
   ]
  },
  {
   "cell_type": "markdown",
   "id": "2c8734bc",
   "metadata": {},
   "source": [
    "To find the upper case version, we use the `upper()` method:"
   ]
  },
  {
   "cell_type": "code",
   "execution_count": 7,
   "id": "510bab2b",
   "metadata": {},
   "outputs": [],
   "source": [
    "chars[0].upper()"
   ]
  },
  {
   "cell_type": "markdown",
   "id": "c7dbdeba",
   "metadata": {},
   "source": [
    "And to find the lower case version we use the `lower()` method:"
   ]
  },
  {
   "cell_type": "code",
   "execution_count": 8,
   "id": "a9ceef11",
   "metadata": {},
   "outputs": [],
   "source": [
    "chars[0].lower()"
   ]
  },
  {
   "cell_type": "markdown",
   "id": "3c6078bd",
   "metadata": {},
   "source": [
    "Next, let's create a list will all the code points:"
   ]
  },
  {
   "cell_type": "code",
   "execution_count": 9,
   "id": "5c3536f0",
   "metadata": {},
   "outputs": [],
   "source": [
    "code_points = [\n",
    "    hex(ord(chars[0])),  \n",
    "    hex(ord(chars[1])), \n",
    "    hex(ord(chars[2])), \n",
    "    hex(ord(chars[3])), \n",
    "    hex(ord(chars[4]))\n",
    "]\n",
    "code_points"
   ]
  },
  {
   "cell_type": "markdown",
   "id": "817968e6",
   "metadata": {},
   "source": [
    "Then the lower case versions:"
   ]
  },
  {
   "cell_type": "code",
   "execution_count": 10,
   "id": "382c0f20",
   "metadata": {},
   "outputs": [],
   "source": [
    "lower = [\n",
    "    chars[0].lower(), chars[1].lower(), chars[2].lower(), chars[3].lower(), chars[4].lower()\n",
    "]\n",
    "lower"
   ]
  },
  {
   "cell_type": "markdown",
   "id": "294c8e69",
   "metadata": {},
   "source": [
    "And finally the uppercase versions:"
   ]
  },
  {
   "cell_type": "code",
   "execution_count": 11,
   "id": "170d84ed",
   "metadata": {},
   "outputs": [],
   "source": [
    "upper = [\n",
    "    chars[0].upper(), chars[1].upper(), chars[2].upper(), chars[3].upper(), chars[4].upper()\n",
    "]\n",
    "upper"
   ]
  },
  {
   "cell_type": "markdown",
   "id": "b036baad",
   "metadata": {},
   "source": [
    "#### Question 2"
   ]
  },
  {
   "cell_type": "markdown",
   "id": "959bb75d",
   "metadata": {},
   "source": [
    "Using two types of string interpolation, and given the variable `a` that contains an integer, print out the following string for `a`:\n",
    "\n",
    "`The number ...value of a... is (or is not) even`\n",
    "\n",
    "For example, if `a` is `42`, the your code should print:\n",
    "\n",
    "`'The number 42 is even'`\n",
    "\n",
    "But if `a` is `31`, then the **same** code should print:\n",
    "\n",
    "`'The number 31 is not even'`\n"
   ]
  },
  {
   "cell_type": "markdown",
   "id": "c1522bbe",
   "metadata": {},
   "source": [
    "##### Solution"
   ]
  },
  {
   "cell_type": "markdown",
   "id": "ab5dc94d",
   "metadata": {},
   "source": [
    "Basically we want to interpolate the value of `a` in our string, and then interpolate either `is` or `is not` depending on whether the number is even or not."
   ]
  },
  {
   "cell_type": "markdown",
   "id": "b0fb60e8",
   "metadata": {},
   "source": [
    "To determine if a number is even, we can use the `%` operator and see if that is equal to `0`:"
   ]
  },
  {
   "cell_type": "code",
   "execution_count": 12,
   "id": "c61535fc",
   "metadata": {},
   "outputs": [],
   "source": [
    "4 % 2"
   ]
  },
  {
   "cell_type": "code",
   "execution_count": 13,
   "id": "5030fd47",
   "metadata": {},
   "outputs": [],
   "source": [
    "5 % 2"
   ]
  },
  {
   "cell_type": "markdown",
   "id": "8cfca60b",
   "metadata": {},
   "source": [
    "To choose `is` or `is not`, we can use a ternary expression:"
   ]
  },
  {
   "cell_type": "code",
   "execution_count": 14,
   "id": "fce0f490",
   "metadata": {},
   "outputs": [],
   "source": [
    "a = 42\n",
    "'is' if a % 2 == 0 else 'is not'"
   ]
  },
  {
   "cell_type": "code",
   "execution_count": 15,
   "id": "9c198a97",
   "metadata": {},
   "outputs": [
    {
     "data": {
      "text/plain": [
       "'is not'"
      ]
     },
     "execution_count": 15,
     "metadata": {},
     "output_type": "execute_result"
    }
   ],
   "source": [
    "a = 31\n",
    "'is' if a % 2 == 0 else 'is not'"
   ]
  },
  {
   "cell_type": "markdown",
   "id": "c5e152be",
   "metadata": {},
   "source": [
    "Now we can create our string, using the `format` method first:"
   ]
  },
  {
   "cell_type": "code",
   "execution_count": 16,
   "id": "0a5c6772",
   "metadata": {},
   "outputs": [
    {
     "data": {
      "text/plain": [
       "'The number 31 is not even'"
      ]
     },
     "execution_count": 16,
     "metadata": {},
     "output_type": "execute_result"
    }
   ],
   "source": [
    "a = 31\n",
    "'The number {} {} even'.format(a, 'is' if a % 2 == 0 else 'is not')"
   ]
  },
  {
   "cell_type": "markdown",
   "id": "d90460ac",
   "metadata": {},
   "source": [
    "And the exact same code works for any value of `a`:"
   ]
  },
  {
   "cell_type": "code",
   "execution_count": 17,
   "id": "5ade9b62",
   "metadata": {},
   "outputs": [
    {
     "data": {
      "text/plain": [
       "'The number 42 is even'"
      ]
     },
     "execution_count": 17,
     "metadata": {},
     "output_type": "execute_result"
    }
   ],
   "source": [
    "a = 42\n",
    "'The number {} {} even'.format(a, 'is' if a % 2 == 0 else 'is not')"
   ]
  },
  {
   "cell_type": "markdown",
   "id": "6950d10a",
   "metadata": {},
   "source": [
    "Next, we can do the same thing using f-strings:"
   ]
  },
  {
   "cell_type": "code",
   "execution_count": 18,
   "id": "4af43636",
   "metadata": {},
   "outputs": [
    {
     "data": {
      "text/plain": [
       "'The number 31 is not even'"
      ]
     },
     "execution_count": 18,
     "metadata": {},
     "output_type": "execute_result"
    }
   ],
   "source": [
    "a = 31\n",
    "f\"The number {a} {'is' if a % 2 == 0 else 'is not'} even\""
   ]
  },
  {
   "cell_type": "markdown",
   "id": "ca2652b2",
   "metadata": {},
   "source": [
    "And again, the exact same code works for any value of `a`:"
   ]
  },
  {
   "cell_type": "code",
   "execution_count": 19,
   "id": "66439958",
   "metadata": {},
   "outputs": [
    {
     "data": {
      "text/plain": [
       "'The number -42 is even'"
      ]
     },
     "execution_count": 19,
     "metadata": {},
     "output_type": "execute_result"
    }
   ],
   "source": [
    "a = -42\n",
    "f\"The number {a} {'is' if a % 2 == 0 else 'is not'} even\""
   ]
  },
  {
   "cell_type": "markdown",
   "id": "a8f97a76",
   "metadata": {},
   "source": [
    "#### Question 3"
   ]
  },
  {
   "cell_type": "markdown",
   "id": "7b3368bf",
   "metadata": {},
   "source": [
    "You are given two variables `a` and `b` (with `b` non-zero), and you need to generate a string that reads something like this:\n",
    "\n",
    "```\n",
    "'a / b = (result)'\n",
    "```"
   ]
  },
  {
   "cell_type": "markdown",
   "id": "20503d1c",
   "metadata": {},
   "source": [
    "But you want your string to be nicely formatted for display purposes, so you want to limit displaying possible digits after the decimal point in all your values to 4 digits."
   ]
  },
  {
   "cell_type": "markdown",
   "id": "f73a5767",
   "metadata": {},
   "source": [
    "##### Solution"
   ]
  },
  {
   "cell_type": "code",
   "execution_count": 20,
   "id": "c25c935a",
   "metadata": {},
   "outputs": [],
   "source": [
    "a = 3.141592653589793\n",
    "b = 6"
   ]
  },
  {
   "cell_type": "markdown",
   "id": "580bbade",
   "metadata": {},
   "source": [
    "We can use an f-string interpolation to create our string:"
   ]
  },
  {
   "cell_type": "code",
   "execution_count": 21,
   "id": "1dfafe5d",
   "metadata": {},
   "outputs": [
    {
     "data": {
      "text/plain": [
       "'3.141592653589793 / 6 = 0.5235987755982988'"
      ]
     },
     "execution_count": 21,
     "metadata": {},
     "output_type": "execute_result"
    }
   ],
   "source": [
    "f'{a} / {b} = {a / b}'"
   ]
  },
  {
   "cell_type": "markdown",
   "id": "a75fa4c0",
   "metadata": {},
   "source": [
    "We're almost there - our display includes too many digits to be very readable, so we want to limit to 4 digits after the decimal point.\n",
    "\n",
    "To do this, we'll use some formatting commands:"
   ]
  },
  {
   "cell_type": "code",
   "execution_count": 22,
   "id": "a062c156",
   "metadata": {},
   "outputs": [
    {
     "data": {
      "text/plain": [
       "'3.1416 / 6.0000 = 0.5236'"
      ]
     },
     "execution_count": 22,
     "metadata": {},
     "output_type": "execute_result"
    }
   ],
   "source": [
    "f'{a:.4f} / {b:.4f} = {a / b:.4f}'"
   ]
  },
  {
   "cell_type": "markdown",
   "id": "d857b8d6",
   "metadata": {},
   "source": [
    "Alternatively we could have used the `format()` method:"
   ]
  },
  {
   "cell_type": "code",
   "execution_count": 23,
   "id": "cfb06c02",
   "metadata": {},
   "outputs": [
    {
     "data": {
      "text/plain": [
       "'3.1416 / 6.0000 = 0.5236'"
      ]
     },
     "execution_count": 23,
     "metadata": {},
     "output_type": "execute_result"
    }
   ],
   "source": [
    "'{:.4f} / {:.4f} = {:.4f}'.format(a, b, a / b)"
   ]
  }
 ],
 "metadata": {
  "kernelspec": {
   "display_name": "Python 3 (ipykernel)",
   "language": "python",
   "name": "python3"
  },
  "language_info": {
   "codemirror_mode": {
    "name": "ipython",
    "version": 3
   },
   "file_extension": ".py",
   "mimetype": "text/x-python",
   "name": "python",
   "nbconvert_exporter": "python",
   "pygments_lexer": "ipython3",
   "version": "3.10.2"
  }
 },
 "nbformat": 4,
 "nbformat_minor": 5
}
