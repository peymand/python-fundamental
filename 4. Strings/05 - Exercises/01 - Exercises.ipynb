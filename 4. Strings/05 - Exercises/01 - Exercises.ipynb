{
 "cells": [
  {
   "cell_type": "markdown",
   "id": "b32a09ec",
   "metadata": {},
   "source": [
    "### Solutions"
   ]
  },
  {
   "cell_type": "markdown",
   "id": "89d7fa38",
   "metadata": {},
   "source": [
    "#### Question 1"
   ]
  },
  {
   "cell_type": "markdown",
   "id": "f4226de7",
   "metadata": {},
   "source": [
    "Given this string of comma separated characters, create three new variables containing the unicode codepoint (in hex), uppercase and lower case versions of each character (also comma delimited).\n",
    "\n",
    "For example, if the string was `'a, b, c'` you should generate three lists that look like:\n",
    "* `['0x61', '0x62', '0x63']`\n",
    "* `['a', 'b', 'c']`\n",
    "* `['A', 'B', 'C']`\n",
    "\n",
    "[You should use the `split()` and `strip()` functions, amongst others, to help you solve this.]"
   ]
  },
  {
   "cell_type": "code",
   "execution_count": 1,
   "id": "8b78843c",
   "metadata": {},
   "outputs": [],
   "source": [
    "s = 'Π, ύ, θ, ω, ν'"
   ]
  },
  {
   "cell_type": "markdown",
   "id": "94e45cbc",
   "metadata": {},
   "source": [
    "#### Question 2"
   ]
  },
  {
   "cell_type": "markdown",
   "id": "a0554e52",
   "metadata": {},
   "source": [
    "Using two types of string interpolation, and given the variable `a` that contains an integer, print out the following string for `a`:\n",
    "\n",
    "`The number ...value of a... is (or is not) even`\n",
    "\n",
    "For example, if `a` is `42`, the your code should print:\n",
    "\n",
    "`'The number 42 is even'`\n",
    "\n",
    "But if `a` is `31`, then the **same** code should print:\n",
    "\n",
    "`'The number 31 is not even'`\n"
   ]
  },
  {
   "cell_type": "markdown",
   "id": "ab2c955f",
   "metadata": {},
   "source": [
    "#### Question 3"
   ]
  },
  {
   "cell_type": "markdown",
   "id": "03619dde",
   "metadata": {},
   "source": [
    "You are given two variables `a` and `b` (with `b` non-zero), and you need to generate a string that reads something like this:\n",
    "\n",
    "```\n",
    "'a / b = (result)'\n",
    "```"
   ]
  },
  {
   "cell_type": "markdown",
   "id": "76378ec5",
   "metadata": {},
   "source": [
    "But you want your string to be nicely formatted for display purposes, so you want to limit displaying possible digits after the decimal point in all your values to 4 digits."
   ]
  }
 ],
 "metadata": {
  "kernelspec": {
   "display_name": "Python 3 (ipykernel)",
   "language": "python",
   "name": "python3"
  },
  "language_info": {
   "codemirror_mode": {
    "name": "ipython",
    "version": 3
   },
   "file_extension": ".py",
   "mimetype": "text/x-python",
   "name": "python",
   "nbconvert_exporter": "python",
   "pygments_lexer": "ipython3",
   "version": "3.10.2"
  }
 },
 "nbformat": 4,
 "nbformat_minor": 5
}
