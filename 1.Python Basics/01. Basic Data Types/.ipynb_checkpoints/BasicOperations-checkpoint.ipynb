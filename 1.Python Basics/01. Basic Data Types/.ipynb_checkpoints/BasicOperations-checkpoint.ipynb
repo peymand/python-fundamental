{
 "cells": [
  {
   "cell_type": "code",
   "execution_count": 1,
   "outputs": [
    {
     "name": "stdout",
     "output_type": "stream",
     "text": [
      "Usage of simple arithematic operator in python.\n",
      "a = 5, b =3\n",
      "Addition of a and b: a+b: 8\n",
      "Subtraction of b from a: a-b: 2\n",
      "Multiplication of a and b: a*b: 15\n",
      "Division of a by b: a/b:  1.6666666666666667\n",
      "Floor division or integer division: a//b: 1\n",
      "Remainder of division: a % b : 2\n",
      "Integer division and Remainder as a tuple: divmod(a,b): (1, 2)\n",
      "\n",
      "num =5\n",
      "Increment Operator: num+=1: 6\n",
      "Decrement Operator: num-=1: 5\n",
      "Multiplier operator: num*=num: 25\n",
      "Floor dividing operator: num //= 5: 5\n",
      "Float dividing operator: num /= 5: 5.0\n"
     ]
    }
   ],
   "source": [
    "print('Usage of simple arithematic operator in python.')\n",
    "\n",
    "a, b = 5, 3\n",
    "print('a = {}, b ={}'.format(a, b))\n",
    "\n",
    "print('Addition of a and b: a+b:', a + b)\n",
    "print('Subtraction of b from a: a-b:', a - b)\n",
    "print('Multiplication of a and b: a*b:', a * b)\n",
    "print('Division of a by b: a/b: ', a / b)\n",
    "print('Floor division or integer division: a//b:', a // b)\n",
    "print('Remainder of division: a % b :', a % b)\n",
    "print('Integer division and Remainder as a tuple: divmod(a,b):', divmod(a, b))\n",
    "\n",
    "print()\n",
    "num = 5\n",
    "print('num ={}'.format(num))\n",
    "num += 1\n",
    "print('Increment Operator: num+=1:', num)\n",
    "num -= 1\n",
    "print('Decrement Operator: num-=1:', num)\n",
    "num *= num\n",
    "print('Multiplier operator: num*=num:', num)\n",
    "num //= 5\n",
    "print('Floor dividing operator: num //= 5:', num)\n",
    "num *= num\n",
    "num /= 5\n",
    "print('Float dividing operator: num /= 5:', num)"
   ],
   "metadata": {
    "collapsed": false,
    "ExecuteTime": {
     "end_time": "2023-12-16T19:25:34.593751400Z",
     "start_time": "2023-12-16T19:25:34.571860700Z"
    }
   },
   "id": "60059fd07cd559b2"
  },
  {
   "cell_type": "code",
   "execution_count": null,
   "outputs": [],
   "source": [
    "x = 42  # object is created\n",
    "print('ID of x={} is {}'.format(x, id(x)))\n",
    "print(f'ID of x={x} is {id(x)}')"
   ],
   "metadata": {
    "collapsed": false
   },
   "id": "initial_id"
  },
  {
   "cell_type": "code",
   "execution_count": null,
   "outputs": [],
   "source": [
    "x = 43\n",
    "print('ID of x={} is {}'.format(x, id(x)))\n",
    "\n",
    "x = 42  # object is created\n",
    "print('ID of x={} is {}'.format(x, id(x)))"
   ],
   "metadata": {
    "collapsed": false
   },
   "id": "3436f5a1a0d25de2"
  },
  {
   "cell_type": "raw",
   "source": [
    "It can be seen that variable x is changed to refer different objects.\n",
    "Numbers, strings and tuples in python are immutable fundamental types/objects.\n",
    "List and Dictionaries are some of the mutable objects."
   ],
   "metadata": {
    "collapsed": false
   },
   "id": "27afc1adfc4fb86c"
  },
  {
   "cell_type": "markdown",
   "source": [
    "Note: Python has two different kinds of numbers"
   ],
   "metadata": {
    "collapsed": false
   },
   "id": "c5f9fba0e7306cc"
  },
  {
   "cell_type": "code",
   "execution_count": null,
   "outputs": [],
   "source": [
    "num = 42\n",
    "print(type(num), num)  # integer type\n",
    "\n",
    "num = 42.0\n",
    "print(type(num), num)  # floating type\n",
    "\n",
    "num = 42 / 9\n",
    "print(type(num), num)  # division will turn to floating type\n",
    "\n",
    "num = 42 // 9  # remainder in python\n",
    "print(type(num), num)  # returns an integer type as remainder\n",
    "\n",
    "num = round(42 / 9)\n",
    "print(type(num), num)  # round up the result of division\n",
    "\n",
    "num = round(42 / 9, 2)  # round up the result up to two decimal places\n",
    "print(type(num), num)\n",
    "\n",
    "num = 42 % 9  # remainder with modulo operator also works in python\n",
    "print(type(num), num)\n",
    "\n",
    "num = float(42)  # constructor of class 'float' - integer is converted to float\n",
    "print(type(num), num)\n",
    "\n",
    "num = int(42.8)  # constructor for class 'int' in python - float is converted to integer\n",
    "print(type(num), num)\n",
    "\n",
    "print(\"This is a string example.\\'format\\' is the method of string object\")\n",
    "\n",
    "print(r\"This is an example of raw\\nstring\")\n",
    "\n",
    "print()\n",
    "print('\\'format\\' example.\\nnum={}'.format(num))"
   ],
   "metadata": {
    "collapsed": false
   },
   "id": "46805db011f16c8b"
  },
  {
   "cell_type": "code",
   "execution_count": null,
   "outputs": [],
   "source": [
    "print('Logical values in python:')\n",
    "a, b = 0, 1\n",
    "print(a == b)\n",
    "print(a < b)\n",
    "\n",
    "a = True\n",
    "b = False\n",
    "print(id(a))\n",
    "print(id(True))\n",
    "print(id(b))\n",
    "print(id(False))\n",
    "print('Notice both IDs are equal for a and True. They are also equal for b and False.')\n",
    "print('Logical values in python belong to the following class')\n",
    "print(type(True), True)\n",
    "print(type(False), False)"
   ],
   "metadata": {
    "collapsed": false
   },
   "id": "3290b44171ea5acd"
  },
  {
   "cell_type": "code",
   "execution_count": null,
   "outputs": [],
   "source": [
    "two_int = 2\n",
    "two_in_str = str(two_int)\n",
    "print(two_in_str, type(two_in_str))"
   ],
   "metadata": {
    "collapsed": false
   },
   "id": "73f80673899047fa"
  },
  {
   "cell_type": "code",
   "execution_count": null,
   "outputs": [],
   "source": [
    "two_str = \"2\"\n",
    "two_in_int = int(two_str)\n",
    "print(two_in_int, type(two_in_int))"
   ],
   "metadata": {
    "collapsed": false
   },
   "id": "ed3f47798b971eb1"
  },
  {
   "cell_type": "code",
   "execution_count": null,
   "outputs": [],
   "source": [
    "# addition\n",
    "sum = 30 + 49\n",
    "print(sum)"
   ],
   "metadata": {
    "collapsed": false
   },
   "id": "6c44a51e766e45c7"
  },
  {
   "cell_type": "code",
   "execution_count": null,
   "outputs": [],
   "source": [
    "# power and square\n",
    "square = 5\n",
    "squared = square ** 2\n",
    "print(squared)"
   ],
   "metadata": {
    "collapsed": false
   },
   "id": "28aba28da9d4595f"
  },
  {
   "cell_type": "code",
   "execution_count": null,
   "outputs": [],
   "source": [
    "print('IEEE ' + 'N2E ' + 'Python Workshop')\n",
    "print(\"*\" * 50)"
   ],
   "metadata": {
    "collapsed": false
   },
   "id": "9408b73800c02ad6"
  },
  {
   "cell_type": "code",
   "execution_count": null,
   "outputs": [],
   "source": [
    "# Assignment Operators\n",
    "var_x = 8\n",
    "var_y = 6\n",
    "var_y += 4  # y=y+4\n",
    "var_x /= 2  # x=x/2\n",
    "print(var_x)\n",
    "print(var_y)\n",
    "\n",
    "# Comparison Operators\n",
    "print(100 == 100)\n",
    "print(110 > 110)\n",
    "print(134 >= 134)\n",
    "print(143 < 293)\n",
    "print(456 <= 345 or \"N2E\" != \"IEEE\")\n",
    "\n",
    "# Logical Operators\n",
    "print(True and False)  # Logical AND\n",
    "print(True or False)  # Logical OR\n",
    "print(not False)  # Logical"
   ],
   "metadata": {
    "collapsed": false
   },
   "id": "8a9de9c867ae3f8c"
  },
  {
   "cell_type": "raw",
   "source": [
    "Order of operations\n",
    "depends on the rules of precedence\n",
    "uses PEMDAS rule from high to low order\n",
    "\n",
    "Parenthesis\n",
    "Exponentiation\n",
    "Multiplication and Division (left to right)\n",
    "Addition and Subtraction (left to right)"
   ],
   "metadata": {
    "collapsed": false
   },
   "id": "fc7e9d90fe5cb540"
  },
  {
   "cell_type": "code",
   "execution_count": null,
   "outputs": [],
   "source": [
    "# printing binary value of a number\n",
    "def binary_value(n):\n",
    "    print('{:08b}'.format(n))  # {:08b} prints binary value to 8 places"
   ],
   "metadata": {
    "collapsed": false
   },
   "id": "815c4a90d4fb5dcc"
  },
  {
   "cell_type": "code",
   "execution_count": null,
   "outputs": [],
   "source": [
    "num = 5\n",
    "print('num = {}'.format(num))\n",
    "print('binary value of num = ', end='')\n",
    "binary_value(num)\n",
    "\n",
    "x, y = 0x55, 0xaa\n",
    "print('x={}'.format(x))\n",
    "print('Binary x=', end='')\n",
    "binary_value(x)\n",
    "\n",
    "print('\\ny={}'.format(y))\n",
    "print('Binary y=', end='')\n",
    "binary_value(y)\n",
    "\n",
    "print('\\nBitwise OR of x and y: ', end='')\n",
    "binary_value(x | y)\n",
    "\n",
    "print('\\nBitwise AND of x and y: ', end='')\n",
    "binary_value(x & y)\n",
    "\n",
    "print('\\nExclusiveOR of x and 1: ', end='')\n",
    "binary_value(x ^ 1)\n",
    "\n",
    "print('\\nExclusiveOR of x and 0: ', end='')\n",
    "binary_value(x ^ 0)\n",
    "\n",
    "print('\\nExclusiveOR of x and y: ', end='')\n",
    "binary_value(x ^ y)\n",
    "\n",
    "print('\\nAll the bits are ON: 0xff = ', 0xff)\n",
    "print('ExclusiveOR of x and 0xff: ', end='')\n",
    "binary_value(x ^ 0xff)\n",
    "\n",
    "print('\\nShift operator- Left: x << 4:', end='')\n",
    "binary_value(x << 4)\n",
    "\n",
    "print('\\nShift operator- Right: x >> 4:', end='')\n",
    "binary_value(x >> 4)\n",
    "\n",
    "print('\\nUnary Operator: ~x:', end='')\n",
    "binary_value(~x)\n",
    "print()\n"
   ],
   "metadata": {
    "collapsed": false
   },
   "id": "58ac65d65dde783"
  },
  {
   "cell_type": "raw",
   "source": [
    "How these operators actually work\n",
    "As discussed in lecture, the individual data types define how these operators will work with them.\n",
    "\n",
    "For example, integers support addition with other types by implementing functionality in those objects - in particular the __add__ method.\n",
    "\n",
    "Similarly, multiplication (*) is handled by __mul__, and many others.\n",
    "\n",
    "We can add an integer to another integer this way:"
   ],
   "metadata": {
    "collapsed": false
   },
   "id": "bd8d6621819e6a59"
  },
  {
   "cell_type": "code",
   "execution_count": 28,
   "outputs": [
    {
     "data": {
      "text/plain": "3"
     },
     "execution_count": 28,
     "metadata": {},
     "output_type": "execute_result"
    }
   ],
   "source": [
    "a = 1\n",
    "a.__add__(2)"
   ],
   "metadata": {
    "collapsed": false,
    "ExecuteTime": {
     "end_time": "2023-12-09T07:37:44.345043600Z",
     "start_time": "2023-12-09T07:37:44.337020200Z"
    }
   },
   "id": "4e9f65e11302718"
  },
  {
   "cell_type": "code",
   "execution_count": null,
   "outputs": [],
   "source": [],
   "metadata": {
    "collapsed": false
   },
   "id": "5975fc75d874ef9a"
  }
 ],
 "metadata": {
  "kernelspec": {
   "display_name": "Python 3",
   "language": "python",
   "name": "python3"
  },
  "language_info": {
   "codemirror_mode": {
    "name": "ipython",
    "version": 2
   },
   "file_extension": ".py",
   "mimetype": "text/x-python",
   "name": "python",
   "nbconvert_exporter": "python",
   "pygments_lexer": "ipython2",
   "version": "2.7.6"
  }
 },
 "nbformat": 4,
 "nbformat_minor": 5
}
