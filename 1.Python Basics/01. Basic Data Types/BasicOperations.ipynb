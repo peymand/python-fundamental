{
 "cells": [
  {
   "cell_type": "code",
   "execution_count": 2,
   "id": "initial_id",
   "metadata": {
    "collapsed": true,
    "ExecuteTime": {
     "end_time": "2023-12-09T05:47:47.785609900Z",
     "start_time": "2023-12-09T05:47:47.778356300Z"
    }
   },
   "outputs": [
    {
     "name": "stdout",
     "output_type": "stream",
     "text": [
      "ID of x=42 is 140716743184088\n",
      "ID of x=42 is 140716743184088\n"
     ]
    }
   ],
   "source": [
    "x = 42  # object is created\n",
    "print('ID of x={} is {}'.format(x, id(x)))\n",
    "print(f'ID of x={x} is {id(x)}')"
   ]
  },
  {
   "cell_type": "code",
   "execution_count": 3,
   "outputs": [
    {
     "name": "stdout",
     "output_type": "stream",
     "text": [
      "ID of x=43 is 140716743184120\n",
      "ID of x=42 is 140716743184088\n"
     ]
    }
   ],
   "source": [
    "x = 43\n",
    "print('ID of x={} is {}'.format(x, id(x)))\n",
    "\n",
    "x = 42  # object is created\n",
    "print('ID of x={} is {}'.format(x, id(x)))"
   ],
   "metadata": {
    "collapsed": false,
    "ExecuteTime": {
     "end_time": "2023-12-09T05:49:07.789798700Z",
     "start_time": "2023-12-09T05:49:07.782792400Z"
    }
   },
   "id": "3436f5a1a0d25de2"
  },
  {
   "cell_type": "raw",
   "source": [
    "It can be seen that variable x is changed to refer different objects.\n",
    "Numbers, strings and tuples in python are immutable fundamental types/objects.\n",
    "List and Dictionaries are some of the mutable objects."
   ],
   "metadata": {
    "collapsed": false
   },
   "id": "27afc1adfc4fb86c"
  },
  {
   "cell_type": "markdown",
   "source": [
    "Note: Python has two different kinds of numbers"
   ],
   "metadata": {
    "collapsed": false
   },
   "id": "c5f9fba0e7306cc"
  },
  {
   "cell_type": "code",
   "execution_count": 8,
   "outputs": [
    {
     "name": "stdout",
     "output_type": "stream",
     "text": [
      "<class 'int'> 42\n",
      "<class 'float'> 42.0\n",
      "<class 'float'> 4.666666666666667\n",
      "<class 'int'> 4\n",
      "<class 'int'> 5\n",
      "<class 'float'> 4.67\n",
      "<class 'int'> 6\n",
      "<class 'float'> 42.0\n",
      "<class 'int'> 42\n",
      "This is a string example.'format' is the method of string object\n",
      "This is an example of raw\\nstring\n",
      "\n",
      "\\'format\\' example.\\nnum=42\n"
     ]
    }
   ],
   "source": [
    "num = 42\n",
    "print(type(num), num)  # integer type\n",
    "\n",
    "num = 42.0\n",
    "print(type(num), num)  # floating type\n",
    "\n",
    "num = 42 / 9\n",
    "print(type(num), num)  # division will turn to floating type\n",
    "\n",
    "num = 42 // 9  # remainder in python\n",
    "print(type(num), num)  # returns an integer type as remainder\n",
    "\n",
    "num = round(42 / 9)\n",
    "print(type(num), num)  # round up the result of division\n",
    "\n",
    "num = round(42 / 9, 2)  # round up the result up to two decimal places\n",
    "print(type(num), num)\n",
    "\n",
    "num = 42 % 9  # remainder with modulo operator also works in python\n",
    "print(type(num), num)\n",
    "\n",
    "num = float(42)  # constructor of class 'float' - integer is converted to float\n",
    "print(type(num), num)\n",
    "\n",
    "num = int(42.8)  # constructor for class 'int' in python - float is converted to integer\n",
    "print(type(num), num)\n",
    "\n",
    "print(\"This is a string example.\\'format\\' is the method of string object\")\n",
    "\n",
    "print(r\"This is an example of raw\\nstring\")\n",
    "\n",
    "print()\n",
    "print('\\'format\\' example.\\nnum={}'.format(num))"
   ],
   "metadata": {
    "collapsed": false,
    "ExecuteTime": {
     "end_time": "2023-12-09T05:56:45.124703900Z",
     "start_time": "2023-12-09T05:56:45.111732200Z"
    }
   },
   "id": "46805db011f16c8b"
  },
  {
   "cell_type": "code",
   "execution_count": 10,
   "outputs": [
    {
     "name": "stdout",
     "output_type": "stream",
     "text": [
      "Logical values in python:\n",
      "False\n",
      "True\n",
      "140716742387136\n",
      "140716742387136\n",
      "140716742387168\n",
      "140716742387168\n",
      "Notice both IDs are equal for a and True. They are also equal for b and False.\n",
      "Logical values in python belong to the following class\n",
      "<class 'bool'> True\n",
      "<class 'bool'> False\n"
     ]
    }
   ],
   "source": [
    "print('Logical values in python:')\n",
    "a, b = 0, 1\n",
    "print(a == b)\n",
    "print(a < b)\n",
    "\n",
    "a = True\n",
    "b = False\n",
    "print(id(a))\n",
    "print(id(True))\n",
    "print(id(b))\n",
    "print(id(False))\n",
    "print('Notice both IDs are equal for a and True. They are also equal for b and False.')\n",
    "print('Logical values in python belong to the following class')\n",
    "print(type(True), True)\n",
    "print(type(False), False)"
   ],
   "metadata": {
    "collapsed": false,
    "ExecuteTime": {
     "end_time": "2023-12-09T05:58:03.470581600Z",
     "start_time": "2023-12-09T05:58:03.440509300Z"
    }
   },
   "id": "3290b44171ea5acd"
  },
  {
   "cell_type": "code",
   "execution_count": 12,
   "outputs": [
    {
     "name": "stdout",
     "output_type": "stream",
     "text": [
      "2 <class 'str'>\n"
     ]
    }
   ],
   "source": [
    "two_int = 2\n",
    "two_in_str = str(two_int)\n",
    "print (two_in_str , type(two_in_str))"
   ],
   "metadata": {
    "collapsed": false,
    "ExecuteTime": {
     "end_time": "2023-12-09T06:00:56.082041400Z",
     "start_time": "2023-12-09T06:00:56.071895300Z"
    }
   },
   "id": "73f80673899047fa"
  },
  {
   "cell_type": "code",
   "execution_count": 13,
   "outputs": [
    {
     "name": "stdout",
     "output_type": "stream",
     "text": [
      "2 <class 'int'>\n"
     ]
    }
   ],
   "source": [
    "two_str = \"2\"\n",
    "two_in_int = int(two_str)\n",
    "print(two_in_int , type(two_in_int))"
   ],
   "metadata": {
    "collapsed": false,
    "ExecuteTime": {
     "end_time": "2023-12-09T06:01:18.733386300Z",
     "start_time": "2023-12-09T06:01:18.725166Z"
    }
   },
   "id": "ed3f47798b971eb1"
  },
  {
   "cell_type": "code",
   "execution_count": 15,
   "outputs": [
    {
     "name": "stdout",
     "output_type": "stream",
     "text": [
      "79\n"
     ]
    }
   ],
   "source": [
    "# addition\n",
    "sum = 30 + 49\n",
    "print(sum)"
   ],
   "metadata": {
    "collapsed": false,
    "ExecuteTime": {
     "end_time": "2023-12-09T06:02:20.718106600Z",
     "start_time": "2023-12-09T06:02:20.707595200Z"
    }
   },
   "id": "6c44a51e766e45c7"
  },
  {
   "cell_type": "code",
   "execution_count": 16,
   "outputs": [
    {
     "name": "stdout",
     "output_type": "stream",
     "text": [
      "25\n"
     ]
    }
   ],
   "source": [
    "# power and square\n",
    "square = 5\n",
    "squared = square ** 2\n",
    "print(squared)"
   ],
   "metadata": {
    "collapsed": false,
    "ExecuteTime": {
     "end_time": "2023-12-09T06:02:58.053721700Z",
     "start_time": "2023-12-09T06:02:58.042745600Z"
    }
   },
   "id": "28aba28da9d4595f"
  },
  {
   "cell_type": "code",
   "execution_count": 17,
   "outputs": [
    {
     "name": "stdout",
     "output_type": "stream",
     "text": [
      "IEEE N2E Python Workshop\n",
      "**************************************************\n"
     ]
    }
   ],
   "source": [
    "print('IEEE ' + 'N2E ' + 'Python Workshop')\n",
    "print(\"*\" * 50)"
   ],
   "metadata": {
    "collapsed": false,
    "ExecuteTime": {
     "end_time": "2023-12-09T06:04:56.986324400Z",
     "start_time": "2023-12-09T06:04:56.973233200Z"
    }
   },
   "id": "9408b73800c02ad6"
  },
  {
   "cell_type": "code",
   "execution_count": 18,
   "outputs": [
    {
     "name": "stdout",
     "output_type": "stream",
     "text": [
      "4.0\n",
      "10\n",
      "True\n",
      "False\n",
      "True\n",
      "True\n",
      "True\n",
      "False\n",
      "True\n",
      "True\n"
     ]
    }
   ],
   "source": [
    "# Assignment Operators\n",
    "var_x = 8\n",
    "var_y = 6\n",
    "var_y += 4  # y=y+4\n",
    "var_x /= 2  # x=x/2\n",
    "print(var_x)\n",
    "print(var_y)\n",
    "\n",
    "# Comparison Operators\n",
    "print(100 == 100)\n",
    "print(110 > 110)\n",
    "print(134 >= 134)\n",
    "print(143 < 293)\n",
    "print(456 <= 345 or \"N2E\" != \"IEEE\")\n",
    "\n",
    "# Logical Operators\n",
    "print(True and False)   # Logical AND\n",
    "print(True or False)    # Logical OR\n",
    "print(not False)        # Logical"
   ],
   "metadata": {
    "collapsed": false,
    "ExecuteTime": {
     "end_time": "2023-12-09T06:05:11.447607200Z",
     "start_time": "2023-12-09T06:05:11.437971700Z"
    }
   },
   "id": "8a9de9c867ae3f8c"
  },
  {
   "cell_type": "raw",
   "source": [
    "Order of operations\n",
    "depends on the rules of precedence\n",
    "uses PEMDAS rule from high to low order\n",
    "\n",
    "Parenthesis\n",
    "Exponentiation\n",
    "Multiplication and Division (left to right)\n",
    "Addition and Subtraction (left to right)"
   ],
   "metadata": {
    "collapsed": false
   },
   "id": "fc7e9d90fe5cb540"
  },
  {
   "cell_type": "code",
   "execution_count": null,
   "outputs": [],
   "source": [],
   "metadata": {
    "collapsed": false
   },
   "id": "912f0d41e86f8bbb"
  }
 ],
 "metadata": {
  "kernelspec": {
   "display_name": "Python 3",
   "language": "python",
   "name": "python3"
  },
  "language_info": {
   "codemirror_mode": {
    "name": "ipython",
    "version": 2
   },
   "file_extension": ".py",
   "mimetype": "text/x-python",
   "name": "python",
   "nbconvert_exporter": "python",
   "pygments_lexer": "ipython2",
   "version": "2.7.6"
  }
 },
 "nbformat": 4,
 "nbformat_minor": 5
}
