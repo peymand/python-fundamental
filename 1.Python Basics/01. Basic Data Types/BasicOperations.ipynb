{
 "cells": [
  {
   "cell_type": "code",
   "execution_count": null,
   "id": "initial_id",
   "metadata": {
    "collapsed": true
   },
   "outputs": [],
   "source": [
    "x = 42  # object is created\n",
    "print('ID of x={} is {}'.format(x, id(x)))\n",
    "print(f'ID of x={x} is {id(x)}')"
   ]
  },
  {
   "cell_type": "code",
   "execution_count": null,
   "outputs": [],
   "source": [
    "x = 43\n",
    "print('ID of x={} is {}'.format(x, id(x)))\n",
    "\n",
    "x = 42  # object is created\n",
    "print('ID of x={} is {}'.format(x, id(x)))"
   ],
   "metadata": {
    "collapsed": false
   },
   "id": "3436f5a1a0d25de2"
  },
  {
   "cell_type": "raw",
   "source": [
    "It can be seen that variable x is changed to refer different objects.\n",
    "Numbers, strings and tuples in python are immutable fundamental types/objects.\n",
    "List and Dictionaries are some of the mutable objects."
   ],
   "metadata": {
    "collapsed": false
   },
   "id": "27afc1adfc4fb86c"
  },
  {
   "cell_type": "markdown",
   "source": [
    "Note: Python has two different kinds of numbers"
   ],
   "metadata": {
    "collapsed": false
   },
   "id": "c5f9fba0e7306cc"
  },
  {
   "cell_type": "code",
   "execution_count": null,
   "outputs": [],
   "source": [
    "num = 42\n",
    "print(type(num), num)  # integer type\n",
    "\n",
    "num = 42.0\n",
    "print(type(num), num)  # floating type\n",
    "\n",
    "num = 42 / 9\n",
    "print(type(num), num)  # division will turn to floating type\n",
    "\n",
    "num = 42 // 9  # remainder in python\n",
    "print(type(num), num)  # returns an integer type as remainder\n",
    "\n",
    "num = round(42 / 9)\n",
    "print(type(num), num)  # round up the result of division\n",
    "\n",
    "num = round(42 / 9, 2)  # round up the result up to two decimal places\n",
    "print(type(num), num)\n",
    "\n",
    "num = 42 % 9  # remainder with modulo operator also works in python\n",
    "print(type(num), num)\n",
    "\n",
    "num = float(42)  # constructor of class 'float' - integer is converted to float\n",
    "print(type(num), num)\n",
    "\n",
    "num = int(42.8)  # constructor for class 'int' in python - float is converted to integer\n",
    "print(type(num), num)\n",
    "\n",
    "print(\"This is a string example.\\'format\\' is the method of string object\")\n",
    "\n",
    "print(r\"This is an example of raw\\nstring\")\n",
    "\n",
    "print()\n",
    "print('\\'format\\' example.\\nnum={}'.format(num))"
   ],
   "metadata": {
    "collapsed": false
   },
   "id": "46805db011f16c8b"
  },
  {
   "cell_type": "code",
   "execution_count": null,
   "outputs": [],
   "source": [
    "print('Logical values in python:')\n",
    "a, b = 0, 1\n",
    "print(a == b)\n",
    "print(a < b)\n",
    "\n",
    "a = True\n",
    "b = False\n",
    "print(id(a))\n",
    "print(id(True))\n",
    "print(id(b))\n",
    "print(id(False))\n",
    "print('Notice both IDs are equal for a and True. They are also equal for b and False.')\n",
    "print('Logical values in python belong to the following class')\n",
    "print(type(True), True)\n",
    "print(type(False), False)"
   ],
   "metadata": {
    "collapsed": false
   },
   "id": "3290b44171ea5acd"
  },
  {
   "cell_type": "code",
   "execution_count": null,
   "outputs": [],
   "source": [
    "two_int = 2\n",
    "two_in_str = str(two_int)\n",
    "print (two_in_str , type(two_in_str))"
   ],
   "metadata": {
    "collapsed": false
   },
   "id": "73f80673899047fa"
  },
  {
   "cell_type": "code",
   "execution_count": null,
   "outputs": [],
   "source": [
    "two_str = \"2\"\n",
    "two_in_int = int(two_str)\n",
    "print(two_in_int , type(two_in_int))"
   ],
   "metadata": {
    "collapsed": false
   },
   "id": "ed3f47798b971eb1"
  },
  {
   "cell_type": "code",
   "execution_count": null,
   "outputs": [],
   "source": [
    "# addition\n",
    "sum = 30 + 49\n",
    "print(sum)"
   ],
   "metadata": {
    "collapsed": false
   },
   "id": "6c44a51e766e45c7"
  },
  {
   "cell_type": "code",
   "execution_count": null,
   "outputs": [],
   "source": [
    "# power and square\n",
    "square = 5\n",
    "squared = square ** 2\n",
    "print(squared)"
   ],
   "metadata": {
    "collapsed": false
   },
   "id": "28aba28da9d4595f"
  },
  {
   "cell_type": "code",
   "execution_count": null,
   "outputs": [],
   "source": [
    "print('IEEE ' + 'N2E ' + 'Python Workshop')\n",
    "print(\"*\" * 50)"
   ],
   "metadata": {
    "collapsed": false
   },
   "id": "9408b73800c02ad6"
  },
  {
   "cell_type": "code",
   "execution_count": null,
   "outputs": [],
   "source": [
    "# Assignment Operators\n",
    "var_x = 8\n",
    "var_y = 6\n",
    "var_y += 4  # y=y+4\n",
    "var_x /= 2  # x=x/2\n",
    "print(var_x)\n",
    "print(var_y)\n",
    "\n",
    "# Comparison Operators\n",
    "print(100 == 100)\n",
    "print(110 > 110)\n",
    "print(134 >= 134)\n",
    "print(143 < 293)\n",
    "print(456 <= 345 or \"N2E\" != \"IEEE\")\n",
    "\n",
    "# Logical Operators\n",
    "print(True and False)   # Logical AND\n",
    "print(True or False)    # Logical OR\n",
    "print(not False)        # Logical"
   ],
   "metadata": {
    "collapsed": false
   },
   "id": "8a9de9c867ae3f8c"
  },
  {
   "cell_type": "raw",
   "source": [
    "Order of operations\n",
    "depends on the rules of precedence\n",
    "uses PEMDAS rule from high to low order\n",
    "\n",
    "Parenthesis\n",
    "Exponentiation\n",
    "Multiplication and Division (left to right)\n",
    "Addition and Subtraction (left to right)"
   ],
   "metadata": {
    "collapsed": false
   },
   "id": "fc7e9d90fe5cb540"
  }
 ],
 "metadata": {
  "kernelspec": {
   "display_name": "Python 3",
   "language": "python",
   "name": "python3"
  },
  "language_info": {
   "codemirror_mode": {
    "name": "ipython",
    "version": 2
   },
   "file_extension": ".py",
   "mimetype": "text/x-python",
   "name": "python",
   "nbconvert_exporter": "python",
   "pygments_lexer": "ipython2",
   "version": "2.7.6"
  }
 },
 "nbformat": 4,
 "nbformat_minor": 5
}
