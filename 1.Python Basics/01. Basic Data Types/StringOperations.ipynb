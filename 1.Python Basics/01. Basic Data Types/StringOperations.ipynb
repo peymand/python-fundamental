{
 "cells": [
  {
   "cell_type": "code",
   "execution_count": 2,
   "id": "initial_id",
   "metadata": {
    "collapsed": true,
    "ExecuteTime": {
     "end_time": "2023-12-09T06:30:31.413943300Z",
     "start_time": "2023-12-09T06:30:31.406936500Z"
    }
   },
   "outputs": [
    {
     "name": "stdout",
     "output_type": "stream",
     "text": [
      "THIS IS A STRING!\n",
      "THIS IS A STRING!\n"
     ]
    }
   ],
   "source": [
    "s = 'This is a string!'\n",
    "print(s.upper())\n",
    "print('This is a string!'.upper())"
   ]
  },
  {
   "cell_type": "code",
   "execution_count": 3,
   "outputs": [
    {
     "name": "stdout",
     "output_type": "stream",
     "text": [
      "Lower Case string: this is a lower case string\n",
      "Capitalized String: This is a lower case string\n",
      "Upper Case:  THIS IS A LOWER CASE STRING\n",
      "Lower case: this is a lower case string\n"
     ]
    }
   ],
   "source": [
    "s = 'this is a lower case string'\n",
    "print('Lower Case string:', s)\n",
    "print('Capitalized String:', s.capitalize())\n",
    "print('Upper Case: ', s.upper())\n",
    "print('Lower case:', s.lower())"
   ],
   "metadata": {
    "collapsed": false,
    "ExecuteTime": {
     "end_time": "2023-12-09T06:30:45.060161400Z",
     "start_time": "2023-12-09T06:30:45.054648800Z"
    }
   },
   "id": "6396156104b528de"
  },
  {
   "cell_type": "code",
   "execution_count": 4,
   "outputs": [
    {
     "name": "stdout",
     "output_type": "stream",
     "text": [
      "This Is A Sample\n",
      "tHIS iS a sAMPLE\n",
      "Print location of 'sam' in string: 10\n",
      "This Is A String\n",
      "   There is a space at the begining and at the end.   \n",
      "There is a space at the begining and at the end.\n",
      "   There is a space at the begining and at the end.\n",
      "       String with new line at end\n",
      "\n",
      "String with new line at end\n",
      "       String with new line at end\n"
     ]
    }
   ],
   "source": [
    "s = 'This Is A Sample'\n",
    "print(s)\n",
    "print(s.swapcase())\n",
    "print('Print location of \\'sam\\' in string:', s.find('Sam'))\n",
    "\n",
    "print(s.replace('Sample', 'String'))\n",
    "\n",
    "s = '   There is a space at the begining and at the end.   '\n",
    "print(s)\n",
    "print(s.strip())\n",
    "print(s.rstrip())\n",
    "\n",
    "s = '       String with new line at end\\n'\n",
    "print(s)\n",
    "print(s.strip())\n",
    "print(s.rstrip('\\n'))"
   ],
   "metadata": {
    "collapsed": false,
    "ExecuteTime": {
     "end_time": "2023-12-09T06:31:35.705725800Z",
     "start_time": "2023-12-09T06:31:35.278146400Z"
    }
   },
   "id": "8ed2141218d53eef"
  },
  {
   "cell_type": "code",
   "execution_count": 5,
   "outputs": [
    {
     "name": "stdout",
     "output_type": "stream",
     "text": [
      "Check if string 'This is a string'has only alpha numeric characters in it This is false as string has 'spaces' in it.\n",
      "False\n",
      "thisisastring\n",
      "Only_alphanumeric: True\n",
      "check only for letters in string: True\n",
      "check if string has only digits: False\n",
      "06.3\n",
      "check for digits string: False\n",
      "check decimal: False\n",
      "check for digits: True\n",
      "check if printable: True\n"
     ]
    }
   ],
   "source": [
    "s = 'This is a string'\n",
    "\n",
    "print('Check if string \\'{}\\'has only alpha numeric characters in it'.format(s),\n",
    "      'This is false as string has \\'spaces\\' in it.')\n",
    "print(s.isalnum())\n",
    "\n",
    "s = 'thisisastring'\n",
    "print(s)\n",
    "print('Only_alphanumeric:', s.isalnum())\n",
    "print('check only for letters in string:', s.isalpha())\n",
    "print('check if string has only digits:', s.isdigit())\n",
    "\n",
    "s = '06.3'\n",
    "print(s)\n",
    "print('check for digits string:', s.isdigit())\n",
    "print('check decimal:', s.isdecimal())\n",
    "\n",
    "s = '1223456'\n",
    "print('check for digits:', s.isdigit())\n",
    "print('check if printable:', s.isprintable())"
   ],
   "metadata": {
    "collapsed": false,
    "ExecuteTime": {
     "end_time": "2023-12-09T06:33:46.472180600Z",
     "start_time": "2023-12-09T06:33:46.465173800Z"
    }
   },
   "id": "1d0221071838ddce"
  },
  {
   "cell_type": "code",
   "execution_count": 7,
   "outputs": [
    {
     "name": "stdout",
     "output_type": "stream",
     "text": [
      "A = 5, B = 6\n",
      "B = 6, A = 5, B = 6\n",
      "A(333) and B(4443)\n",
      "\n",
      "Splitting and Joining Strings:\n",
      "['This', 'is', 'a', 'string.']\n",
      "Splitting at 'i' in string:  ['Th', 's ', 's a str', 'ng.']\n",
      "This\n",
      "is\n",
      "a\n",
      "string.\n",
      "This:is:a:string.\n",
      "This, is, a, string.\n",
      "This is a string.\n",
      "Thisisastring.\n"
     ]
    }
   ],
   "source": [
    "a, b = 5, 6\n",
    "print('A = {}, B = {}'.format(a, b))\n",
    "print('B = {1}, A = {0}, B = {1}'.format(a, b))\n",
    "print('A({Addo}) and B({Mado})'.format(Addo=333, Mado=4443))\n",
    "\n",
    "print()\n",
    "print('Splitting and Joining Strings:')\n",
    "s = 'This is a string.'\n",
    "a = s.split()\n",
    "print(a)\n",
    "print('Splitting at \\'i\\' in string: ', s.split('i'))\n",
    "\n",
    "for w in a: \n",
    "    print(w)\n",
    "\n",
    "s1 = ':'.join(a)\n",
    "s2 = ', '.join(a)\n",
    "s3 = ' '.join(a)\n",
    "s4 = ''.join(a)\n",
    "print('{}\\n{}\\n{}\\n{}'.format(s1, s2, s3, s4))"
   ],
   "metadata": {
    "collapsed": false,
    "ExecuteTime": {
     "end_time": "2023-12-09T06:35:46.495397900Z",
     "start_time": "2023-12-09T06:35:46.486809900Z"
    }
   },
   "id": "1c900b2105894c94"
  },
  {
   "cell_type": "code",
   "execution_count": null,
   "outputs": [],
   "source": [],
   "metadata": {
    "collapsed": false
   },
   "id": "2fb949851b9f36ad"
  }
 ],
 "metadata": {
  "kernelspec": {
   "display_name": "Python 3",
   "language": "python",
   "name": "python3"
  },
  "language_info": {
   "codemirror_mode": {
    "name": "ipython",
    "version": 2
   },
   "file_extension": ".py",
   "mimetype": "text/x-python",
   "name": "python",
   "nbconvert_exporter": "python",
   "pygments_lexer": "ipython2",
   "version": "2.7.6"
  }
 },
 "nbformat": 4,
 "nbformat_minor": 5
}
