{
 "cells": [
  {
   "cell_type": "raw",
   "source": [
    "'''\n",
    "Created on Dec 09, 2023\n",
    "\n",
    "@author: Peyman Dodangeh\n",
    "\n",
    "This code is just the discussion of Python Variable basics\n",
    "\n",
    "# everything in python is objects\n",
    "# variables in python are references to objects\n",
    "\n",
    "Variables and Types in python can be mutable(can be changed) or immutable(cannot be changed)\n",
    "'''"
   ],
   "metadata": {
    "collapsed": false
   },
   "id": "7304208b88849b04"
  },
  {
   "cell_type": "code",
   "execution_count": 13,
   "outputs": [
    {
     "name": "stdout",
     "output_type": "stream",
     "text": [
      "Hello World!\n"
     ]
    }
   ],
   "source": [
    "#first hands-on\n",
    "print('Hello World!')"
   ],
   "metadata": {
    "collapsed": false,
    "ExecuteTime": {
     "end_time": "2023-12-09T05:33:16.278551100Z",
     "start_time": "2023-12-09T05:33:16.274011100Z"
    }
   },
   "id": "69c5163ec072af48"
  },
  {
   "cell_type": "code",
   "execution_count": 5,
   "outputs": [],
   "source": [
    "# built-in types\n",
    "# Simple Data Types - Integer, String, Float, Boolean\n",
    "# Float & Double are same in python. we have float as the built-in type\n",
    "# collections - List, Dictionary, Tuple, Set (Basically collections or data structures)\n",
    "a = 10\n",
    "b = \"hi\"\n",
    "c = 25.7\n",
    "d = True"
   ],
   "metadata": {
    "collapsed": false,
    "ExecuteTime": {
     "end_time": "2023-12-09T05:29:42.959822300Z",
     "start_time": "2023-12-09T05:29:42.954816300Z"
    }
   },
   "id": "cfbc7e5c3704fd0f"
  },
  {
   "cell_type": "code",
   "execution_count": 6,
   "outputs": [
    {
     "name": "stdout",
     "output_type": "stream",
     "text": [
      "<class 'int'>\n",
      "<class 'str'>\n",
      "<class 'float'>\n",
      "<class 'bool'>\n"
     ]
    }
   ],
   "source": [
    "print(type(a))\n",
    "print(type(b))\n",
    "print(type(c))\n",
    "print(type(d))"
   ],
   "metadata": {
    "collapsed": false,
    "ExecuteTime": {
     "end_time": "2023-12-09T05:30:00.396173400Z",
     "start_time": "2023-12-09T05:30:00.389647400Z"
    }
   },
   "id": "6232aefa5fb2cb6b"
  },
  {
   "cell_type": "code",
   "execution_count": 14,
   "outputs": [
    {
     "name": "stdout",
     "output_type": "stream",
     "text": [
      "140716743184120 43 <class 'int'>\n",
      "140716743184120 43 <class 'int'>\n"
     ]
    }
   ],
   "source": [
    "a1 = 43\n",
    "print(id(a), a, type(a))\n",
    "a2 = 43\n",
    "print(id(a), a, type(a))\n"
   ],
   "metadata": {
    "collapsed": false,
    "ExecuteTime": {
     "end_time": "2023-12-09T05:35:03.351509700Z",
     "start_time": "2023-12-09T05:35:03.340051300Z"
    }
   },
   "id": "a15feaaf1279d4d8"
  },
  {
   "cell_type": "raw",
   "source": [
    "Notice a1 and a2 have same ids for the value 43."
   ],
   "metadata": {
    "collapsed": false
   },
   "id": "f909fd05b3543b46"
  },
  {
   "cell_type": "code",
   "execution_count": 15,
   "outputs": [
    {
     "name": "stdout",
     "output_type": "stream",
     "text": [
      "Compare values of two objects:\n",
      "True\n"
     ]
    }
   ],
   "source": [
    "print('Compare values of two objects:')\n",
    "print(a1 == a2)"
   ],
   "metadata": {
    "collapsed": false,
    "ExecuteTime": {
     "end_time": "2023-12-09T05:36:39.504838400Z",
     "start_time": "2023-12-09T05:36:39.491137300Z"
    }
   },
   "id": "c1b858c01d201f8e"
  },
  {
   "cell_type": "code",
   "execution_count": 16,
   "outputs": [
    {
     "name": "stdout",
     "output_type": "stream",
     "text": [
      "Compare IDs of two objects:\n",
      "True\n"
     ]
    }
   ],
   "source": [
    "print('Compare IDs of two objects:')\n",
    "print(a1 is a2)"
   ],
   "metadata": {
    "collapsed": false,
    "ExecuteTime": {
     "end_time": "2023-12-09T05:37:06.068156300Z",
     "start_time": "2023-12-09T05:37:06.047645400Z"
    }
   },
   "id": "c332f0519e89a021"
  },
  {
   "cell_type": "code",
   "execution_count": 17,
   "outputs": [
    {
     "name": "stdout",
     "output_type": "stream",
     "text": [
      "\n",
      "Mutable objects IDs\n",
      "Compare values of x and y:\n",
      "True\n",
      "Compare IDs of x and y:\n",
      "False\n"
     ]
    }
   ],
   "source": [
    "print()\n",
    "print('Mutable objects IDs')\n",
    "x = dict(x=42)\n",
    "y = dict(x=42)\n",
    "\n",
    "print('Compare values of x and y:')\n",
    "print(x == y)\n",
    "print('Compare IDs of x and y:')\n",
    "print(x is y)"
   ],
   "metadata": {
    "collapsed": false,
    "ExecuteTime": {
     "end_time": "2023-12-09T05:45:44.925208Z",
     "start_time": "2023-12-09T05:45:44.915209300Z"
    }
   },
   "id": "63775daa870808f3"
  },
  {
   "cell_type": "raw",
   "source": [
    "Notice that dictionary being mutable objects creats a different object for different variable names.\n",
    "Thus, the different ids for x and y even though they have same values."
   ],
   "metadata": {
    "collapsed": false
   },
   "id": "2263a29090cd8267"
  },
  {
   "cell_type": "code",
   "execution_count": 8,
   "outputs": [
    {
     "name": "stdout",
     "output_type": "stream",
     "text": [
      "<class 'list'>\n",
      "<class 'dict'>\n",
      "<class 'tuple'>\n",
      "<class 'set'>\n"
     ]
    }
   ],
   "source": [
    "li = [1, 2, 3]\n",
    "di = {\"one\": 1, \"two\": 2, \"three\": 3}\n",
    "tu = (1, 2, 3)\n",
    "se = {1, 2, 3}\n",
    "print(type(li))\n",
    "print(type(di))\n",
    "print(type(tu))\n",
    "print(type(se))"
   ],
   "metadata": {
    "collapsed": false,
    "ExecuteTime": {
     "end_time": "2023-12-09T05:30:41.341752200Z",
     "start_time": "2023-12-09T05:30:41.335745200Z"
    }
   },
   "id": "9953d5e9e78d482b"
  },
  {
   "cell_type": "code",
   "execution_count": null,
   "outputs": [],
   "source": [],
   "metadata": {
    "collapsed": false
   },
   "id": "a70b8018652c382c"
  },
  {
   "cell_type": "code",
   "execution_count": null,
   "outputs": [],
   "source": [],
   "metadata": {
    "collapsed": false
   },
   "id": "34a6ae603fd4ed07"
  },
  {
   "cell_type": "raw",
   "source": [],
   "metadata": {
    "collapsed": false
   },
   "id": "8cb9ab21b0c2e86"
  },
  {
   "cell_type": "code",
   "execution_count": null,
   "outputs": [],
   "source": [],
   "metadata": {
    "collapsed": false
   },
   "id": "41bedc4f1f67ccad"
  },
  {
   "cell_type": "code",
   "execution_count": null,
   "outputs": [],
   "source": [],
   "metadata": {
    "collapsed": false
   },
   "id": "4793de5231b10ea8"
  }
 ],
 "metadata": {
  "kernelspec": {
   "display_name": "Python 3",
   "language": "python",
   "name": "python3"
  },
  "language_info": {
   "codemirror_mode": {
    "name": "ipython",
    "version": 2
   },
   "file_extension": ".py",
   "mimetype": "text/x-python",
   "name": "python",
   "nbconvert_exporter": "python",
   "pygments_lexer": "ipython2",
   "version": "2.7.6"
  }
 },
 "nbformat": 4,
 "nbformat_minor": 5
}
