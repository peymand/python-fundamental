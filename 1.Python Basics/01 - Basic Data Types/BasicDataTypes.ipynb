{
 "cells": [
  {
   "cell_type": "raw",
   "source": [
    "'''\n",
    "Created on Dec 09, 2023\n",
    "\n",
    "@author: Peyman Dodangeh\n",
    "\n",
    "This code is just the discussion of Python Variable basics\n",
    "\n",
    "# everything in python is objects\n",
    "# variables in python are references to objects\n",
    "\n",
    "Variables and Types in python can be mutable(can be changed) or immutable(cannot be changed)\n",
    "'''"
   ],
   "metadata": {
    "collapsed": false
   },
   "id": "7304208b88849b04"
  },
  {
   "cell_type": "code",
   "execution_count": null,
   "outputs": [],
   "source": [
    "#first hands-on\n",
    "print('Hello World!')"
   ],
   "metadata": {
    "collapsed": false
   },
   "id": "f4a043e060f95217"
  },
  {
   "cell_type": "code",
   "execution_count": null,
   "outputs": [],
   "source": [
    "# built-in types\n",
    "# Simple Data Types - Integer, String, Float, Boolean\n",
    "# Float & Double are same in python. we have float as the built-in type\n",
    "# collections - List, Dictionary, Tuple, Set (Basically collections or data structures)\n",
    "a = 10\n",
    "b = \"hi\"\n",
    "c = 25.7\n",
    "d = True\n",
    "e = None"
   ],
   "metadata": {
    "collapsed": false
   },
   "id": "cfbc7e5c3704fd0f"
  },
  {
   "cell_type": "code",
   "execution_count": null,
   "outputs": [],
   "source": [
    "print(type(a))\n",
    "print(type(b))\n",
    "print(type(c))\n",
    "print(type(d))\n",
    "print(type(e))"
   ],
   "metadata": {
    "collapsed": false
   },
   "id": "6232aefa5fb2cb6b"
  },
  {
   "cell_type": "code",
   "execution_count": null,
   "outputs": [],
   "source": [
    "a1 = 43\n",
    "print(id(a1) , a1, type(a1))\n",
    "a2 = 43\n",
    "print(id(a2), a2, type(a2))\n"
   ],
   "metadata": {
    "collapsed": false
   },
   "id": "a15feaaf1279d4d8"
  },
  {
   "cell_type": "raw",
   "source": [
    "Notice a1 and a2 have same ids for the value 43."
   ],
   "metadata": {
    "collapsed": false
   },
   "id": "f909fd05b3543b46"
  },
  {
   "cell_type": "code",
   "execution_count": null,
   "outputs": [],
   "source": [
    "print('Compare values of two objects:')\n",
    "print(a1 == a2)"
   ],
   "metadata": {
    "collapsed": false
   },
   "id": "c1b858c01d201f8e"
  },
  {
   "cell_type": "code",
   "execution_count": null,
   "outputs": [],
   "source": [
    "print('Compare IDs of two objects:')\n",
    "print(a1 is a2)"
   ],
   "metadata": {
    "collapsed": false
   },
   "id": "c332f0519e89a021"
  },
  {
   "cell_type": "code",
   "execution_count": null,
   "outputs": [],
   "source": [
    "print()\n",
    "print('Mutable objects IDs')\n",
    "x = dict(x=42)\n",
    "y = dict(x=42)\n",
    "\n",
    "print('Compare values of x and y:')\n",
    "print(x == y)\n",
    "print('Compare IDs of x and y:')\n",
    "print(x is y)"
   ],
   "metadata": {
    "collapsed": false
   },
   "id": "63775daa870808f3"
  },
  {
   "cell_type": "raw",
   "source": [
    "Notice that dictionary being mutable objects creats a different object for different variable names.\n",
    "Thus, the different ids for x and y even though they have same values."
   ],
   "metadata": {
    "collapsed": false
   },
   "id": "2263a29090cd8267"
  },
  {
   "cell_type": "code",
   "execution_count": null,
   "outputs": [],
   "source": [
    "li = [1, 2, 3]\n",
    "di = {\"one\": 1, \"two\": 2, \"three\": 3}\n",
    "tu = (1, 2, 3)\n",
    "se = {1, 2, 3}\n",
    "print(type(li))\n",
    "print(type(di))\n",
    "print(type(tu))\n",
    "print(type(se))"
   ],
   "metadata": {
    "collapsed": false
   },
   "id": "9953d5e9e78d482b"
  }
 ],
 "metadata": {
  "kernelspec": {
   "display_name": "Python 3",
   "language": "python",
   "name": "python3"
  },
  "language_info": {
   "codemirror_mode": {
    "name": "ipython",
    "version": 2
   },
   "file_extension": ".py",
   "mimetype": "text/x-python",
   "name": "python",
   "nbconvert_exporter": "python",
   "pygments_lexer": "ipython2",
   "version": "2.7.6"
  }
 },
 "nbformat": 4,
 "nbformat_minor": 5
}
