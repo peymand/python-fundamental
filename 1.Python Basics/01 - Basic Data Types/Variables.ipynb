{
 "cells": [
  {
   "cell_type": "raw",
   "source": [
    "Naming Conventions\n",
    "Python developers typically follow a standard naming convention for variable names. Depending on the type of variable, there are different conventions.\n",
    "\n",
    "In particular, we follow the PEP8 conventions:\n",
    "\n",
    "https://www.python.org/dev/peps/pep-0008/\n",
    "\n",
    "You should try reading this guide once in a while (not all in one sitting, but just here and there as time permits - it's quite useful)."
   ],
   "metadata": {
    "collapsed": false
   },
   "id": "9bc0022a34093129"
  },
  {
   "cell_type": "code",
   "execution_count": null,
   "outputs": [],
   "source": [
    "test = 10\n",
    "test_1 = 10\n",
    "_test_1_ = 10\n",
    "__test__ = 10\n",
    "TEST = 10"
   ],
   "metadata": {
    "collapsed": false
   },
   "id": "d5be56383d868e53"
  },
  {
   "cell_type": "code",
   "execution_count": null,
   "outputs": [],
   "source": [
    "a = float(10)\n",
    "a\n"
   ],
   "metadata": {
    "collapsed": false
   },
   "id": "d1ef6984c72ddc68"
  },
  {
   "cell_type": "code",
   "execution_count": null,
   "outputs": [],
   "source": [
    "float = 100.5"
   ],
   "metadata": {
    "collapsed": false
   },
   "id": "e4fe8d54225b66d"
  },
  {
   "cell_type": "code",
   "execution_count": null,
   "outputs": [],
   "source": [
    "a = float(10)"
   ],
   "metadata": {
    "collapsed": false
   },
   "id": "5e9e3bc0d7cd808c"
  },
  {
   "cell_type": "code",
   "execution_count": null,
   "outputs": [],
   "source": [
    "del float"
   ],
   "metadata": {
    "collapsed": false
   },
   "id": "5d7e453d8cde4329"
  },
  {
   "cell_type": "code",
   "execution_count": null,
   "outputs": [],
   "source": [
    "a = float(10)\n",
    "print(a)"
   ],
   "metadata": {
    "collapsed": false
   },
   "id": "4c04a2163935a248"
  },
  {
   "cell_type": "raw",
   "source": [
    "The other advice I would give is to always give your variables meaningful names - not because the computer cares, but because humans reading your code (including yourself six months after you wrote that code) will find it easier to understand what's going on.\n",
    "\n",
    "Here's an example. Suppose I show you this piece of code, and ask you what does it do:"
   ],
   "metadata": {
    "collapsed": false
   },
   "id": "e681060b594eddb8"
  },
  {
   "cell_type": "code",
   "execution_count": null,
   "outputs": [],
   "source": [
    "x = 100\n",
    "y = 0.1\n",
    "z = 10\n",
    "\n",
    "r = x * ((1 + y/12) ** (z * 12))\n",
    "\n",
    "print(r)"
   ],
   "metadata": {
    "collapsed": false
   },
   "id": "f7e7f09c0faeaa9"
  },
  {
   "cell_type": "code",
   "execution_count": null,
   "outputs": [],
   "source": [
    "principal = 100\n",
    "apr = 0.1\n",
    "years = 10\n",
    "\n",
    "future_value = principal * ((1 + apr/12) ** (years * 12))\n",
    "\n",
    "print(future_value)"
   ],
   "metadata": {
    "collapsed": false
   },
   "id": "43e2e32df37200fe"
  }
 ],
 "metadata": {
  "kernelspec": {
   "display_name": "Python 3",
   "language": "python",
   "name": "python3"
  },
  "language_info": {
   "codemirror_mode": {
    "name": "ipython",
    "version": 2
   },
   "file_extension": ".py",
   "mimetype": "text/x-python",
   "name": "python",
   "nbconvert_exporter": "python",
   "pygments_lexer": "ipython2",
   "version": "2.7.6"
  }
 },
 "nbformat": 4,
 "nbformat_minor": 5
}
