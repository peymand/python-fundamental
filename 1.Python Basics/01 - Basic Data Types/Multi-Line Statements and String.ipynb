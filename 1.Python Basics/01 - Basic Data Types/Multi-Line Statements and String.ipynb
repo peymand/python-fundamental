{
 "cells": [
  {
   "cell_type": "code",
   "execution_count": 2,
   "id": "initial_id",
   "metadata": {
    "collapsed": true,
    "ExecuteTime": {
     "end_time": "2023-12-11T10:21:11.198566500Z",
     "start_time": "2023-12-11T10:21:11.195477300Z"
    }
   },
   "outputs": [],
   "source": [
    "a = [1,\n",
    "     2,\n",
    "     3]"
   ]
  },
  {
   "cell_type": "code",
   "execution_count": 3,
   "outputs": [
    {
     "data": {
      "text/plain": "[1, 2, 3]"
     },
     "execution_count": 3,
     "metadata": {},
     "output_type": "execute_result"
    }
   ],
   "source": [
    "a"
   ],
   "metadata": {
    "collapsed": false,
    "ExecuteTime": {
     "end_time": "2023-12-11T10:21:16.938864200Z",
     "start_time": "2023-12-11T10:21:16.919674800Z"
    }
   },
   "id": "352404d1c6a72c4b"
  },
  {
   "cell_type": "code",
   "execution_count": null,
   "outputs": [],
   "source": [],
   "metadata": {
    "collapsed": false
   },
   "id": "2b8b42e6c476529e"
  },
  {
   "cell_type": "markdown",
   "source": [
    "you may also add comments to the end of each physical line:"
   ],
   "metadata": {
    "collapsed": false
   },
   "id": "869137c73333f0a7"
  },
  {
   "cell_type": "code",
   "execution_count": 4,
   "outputs": [],
   "source": [
    "a = [1,  #first element\n",
    "     2,  #second element\n",
    "     3  #third element\n",
    "     ]"
   ],
   "metadata": {
    "collapsed": false,
    "ExecuteTime": {
     "end_time": "2023-12-11T10:23:01.956360300Z",
     "start_time": "2023-12-11T10:23:01.951369700Z"
    }
   },
   "id": "f7f561e515a4335f"
  },
  {
   "cell_type": "code",
   "execution_count": 5,
   "outputs": [
    {
     "data": {
      "text/plain": "[1, 2, 3]"
     },
     "execution_count": 5,
     "metadata": {},
     "output_type": "execute_result"
    }
   ],
   "source": [
    "a"
   ],
   "metadata": {
    "collapsed": false,
    "ExecuteTime": {
     "end_time": "2023-12-11T10:23:03.326320400Z",
     "start_time": "2023-12-11T10:23:03.315970Z"
    }
   },
   "id": "5a63802abbc8251d"
  },
  {
   "cell_type": "code",
   "execution_count": null,
   "outputs": [],
   "source": [],
   "metadata": {
    "collapsed": false
   },
   "id": "222558660b838d67"
  },
  {
   "cell_type": "markdown",
   "source": [
    "This works the same way for tuples, set, and dictionaries."
   ],
   "metadata": {
    "collapsed": false
   },
   "id": "73cbfe6b6d676977"
  },
  {
   "cell_type": "code",
   "execution_count": 6,
   "outputs": [],
   "source": [
    "a = (1, #first element\n",
    "     2, #SECOND ELEMENT\n",
    "      3)"
   ],
   "metadata": {
    "collapsed": false,
    "ExecuteTime": {
     "end_time": "2023-12-11T10:24:47.269966600Z",
     "start_time": "2023-12-11T10:24:47.260905900Z"
    }
   },
   "id": "de3ddfd223d3be13"
  },
  {
   "cell_type": "code",
   "execution_count": 8,
   "outputs": [
    {
     "data": {
      "text/plain": "(1, 2, 3)"
     },
     "execution_count": 8,
     "metadata": {},
     "output_type": "execute_result"
    }
   ],
   "source": [
    "a"
   ],
   "metadata": {
    "collapsed": false,
    "ExecuteTime": {
     "end_time": "2023-12-11T10:24:54.330211700Z",
     "start_time": "2023-12-11T10:24:54.319239Z"
    }
   },
   "id": "6f080cbe1f7e1efa"
  },
  {
   "cell_type": "code",
   "execution_count": 10,
   "outputs": [],
   "source": [
    "a = {1 ,2}"
   ],
   "metadata": {
    "collapsed": false,
    "ExecuteTime": {
     "end_time": "2023-12-11T10:25:43.109376700Z",
     "start_time": "2023-12-11T10:25:43.102419500Z"
    }
   },
   "id": "f54794903eea0538"
  },
  {
   "cell_type": "code",
   "execution_count": 11,
   "outputs": [
    {
     "data": {
      "text/plain": "set"
     },
     "execution_count": 11,
     "metadata": {},
     "output_type": "execute_result"
    }
   ],
   "source": [
    "type(a)"
   ],
   "metadata": {
    "collapsed": false,
    "ExecuteTime": {
     "end_time": "2023-12-11T10:25:50.583001700Z",
     "start_time": "2023-12-11T10:25:50.570937200Z"
    }
   },
   "id": "656201b89ba5177f"
  },
  {
   "cell_type": "code",
   "execution_count": null,
   "outputs": [],
   "source": [],
   "metadata": {
    "collapsed": false
   },
   "id": "7b3445d1b5336e65"
  }
 ],
 "metadata": {
  "kernelspec": {
   "display_name": "Python 3",
   "language": "python",
   "name": "python3"
  },
  "language_info": {
   "codemirror_mode": {
    "name": "ipython",
    "version": 2
   },
   "file_extension": ".py",
   "mimetype": "text/x-python",
   "name": "python",
   "nbconvert_exporter": "python",
   "pygments_lexer": "ipython2",
   "version": "2.7.6"
  }
 },
 "nbformat": 4,
 "nbformat_minor": 5
}
