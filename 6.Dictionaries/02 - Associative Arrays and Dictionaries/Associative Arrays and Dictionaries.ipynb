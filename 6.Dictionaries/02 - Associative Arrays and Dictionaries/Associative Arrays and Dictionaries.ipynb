{
 "cells": [
  {
   "cell_type": "markdown",
   "metadata": {},
   "source": [
    "### Associative Arrays and Dictionaries"
   ]
  },
  {
   "cell_type": "markdown",
   "metadata": {},
   "source": [
    "As we saw in the lecture, dictionaries are essentially a way of associating two values together - a **key** and a **value**."
   ]
  },
  {
   "cell_type": "markdown",
   "metadata": {},
   "source": [
    "Think of it like a regular dictionary - the key is the word you are looking for in the dictionary, and the value is the definition of the word."
   ]
  },
  {
   "cell_type": "markdown",
   "metadata": {},
   "source": [
    "Dictionaries are organized in a way that makes searching for a word much more efficient than just scanning all the words one by one until you find the one you are looking for."
   ]
  },
  {
   "cell_type": "markdown",
   "metadata": {},
   "source": [
    "The same goes with dictionaries in Python, key lookups in dictionaries are very efficient."
   ]
  },
  {
   "cell_type": "markdown",
   "metadata": {},
   "source": [
    "We can create a dictionary using a literal:"
   ]
  },
  {
   "cell_type": "code",
   "execution_count": 4,
   "outputs": [
    {
     "data": {
      "text/plain": "{}"
     },
     "execution_count": 4,
     "metadata": {},
     "output_type": "execute_result"
    }
   ],
   "source": [
    "d = dict()\n",
    "d = {}\n",
    "d"
   ],
   "metadata": {
    "collapsed": false,
    "ExecuteTime": {
     "end_time": "2024-01-24T12:54:57.676380900Z",
     "start_time": "2024-01-24T12:54:57.638398400Z"
    }
   }
  },
  {
   "cell_type": "code",
   "execution_count": 7,
   "metadata": {
    "ExecuteTime": {
     "end_time": "2023-12-20T07:32:39.385121700Z",
     "start_time": "2023-12-20T07:32:39.102401200Z"
    }
   },
   "outputs": [],
   "source": [
    "d = {'a': 1, 'b': 2, 'c': 3}"
   ]
  },
  {
   "cell_type": "markdown",
   "metadata": {},
   "source": [
    "We can also use whitespace to make dictionary literals more readable if we prefer:"
   ]
  },
  {
   "cell_type": "code",
   "execution_count": 8,
   "metadata": {
    "ExecuteTime": {
     "end_time": "2023-12-20T07:32:39.393121900Z",
     "start_time": "2023-12-20T07:32:39.112768500Z"
    }
   },
   "outputs": [],
   "source": [
    "person = {\n",
    "    'first_name': 'Eric',\n",
    "    'last_name': 'Idle',\n",
    "    'year_born': 2016 \n",
    "}"
   ]
  },
  {
   "cell_type": "markdown",
   "metadata": {},
   "source": [
    "To look up the value for a key in a dictionary we use square brackets (just like a sequence, except we don't use indexes, but keys):"
   ]
  },
  {
   "cell_type": "code",
   "execution_count": 9,
   "metadata": {
    "ExecuteTime": {
     "end_time": "2023-12-20T07:32:39.519120800Z",
     "start_time": "2023-12-20T07:32:39.125755Z"
    }
   },
   "outputs": [
    {
     "data": {
      "text/plain": "2016"
     },
     "execution_count": 9,
     "metadata": {},
     "output_type": "execute_result"
    }
   ],
   "source": [
    "person['year_born']"
   ]
  },
  {
   "cell_type": "markdown",
   "metadata": {},
   "source": [
    "To replace the value for an existing key, we just use an assignment:"
   ]
  },
  {
   "cell_type": "code",
   "execution_count": 10,
   "metadata": {
    "ExecuteTime": {
     "end_time": "2023-12-20T07:32:39.533121500Z",
     "start_time": "2023-12-20T07:32:39.136684100Z"
    }
   },
   "outputs": [],
   "source": [
    "person['year_born'] = 1943"
   ]
  },
  {
   "cell_type": "markdown",
   "metadata": {},
   "source": [
    "And the data was updated:"
   ]
  },
  {
   "cell_type": "code",
   "execution_count": 11,
   "metadata": {
    "ExecuteTime": {
     "end_time": "2023-12-20T07:32:39.542121300Z",
     "start_time": "2023-12-20T07:32:39.146204Z"
    }
   },
   "outputs": [
    {
     "data": {
      "text/plain": "{'first_name': 'Eric', 'last_name': 'Idle', 'year_born': 1943}"
     },
     "execution_count": 11,
     "metadata": {},
     "output_type": "execute_result"
    }
   ],
   "source": [
    "person"
   ]
  },
  {
   "cell_type": "markdown",
   "metadata": {},
   "source": [
    "To create a new key in a dictionary, again just use an assignment:"
   ]
  },
  {
   "cell_type": "code",
   "execution_count": 12,
   "metadata": {
    "ExecuteTime": {
     "end_time": "2023-12-20T07:32:39.554121900Z",
     "start_time": "2023-12-20T07:32:39.158899200Z"
    }
   },
   "outputs": [],
   "source": [
    "person['month_born'] = 'March'"
   ]
  },
  {
   "cell_type": "code",
   "execution_count": 13,
   "metadata": {
    "ExecuteTime": {
     "end_time": "2023-12-20T07:32:39.555121800Z",
     "start_time": "2023-12-20T07:32:39.161906900Z"
    }
   },
   "outputs": [
    {
     "data": {
      "text/plain": "{'first_name': 'Eric',\n 'last_name': 'Idle',\n 'year_born': 1943,\n 'month_born': 'March'}"
     },
     "execution_count": 13,
     "metadata": {},
     "output_type": "execute_result"
    }
   ],
   "source": [
    "person"
   ]
  },
  {
   "cell_type": "markdown",
   "metadata": {},
   "source": [
    "So far we've been using strings as dictionary keys, and that is very common, but keys can be any Python object that is hashable, like strings, numerics and certain objects (we'll see this later in the course)."
   ]
  },
  {
   "cell_type": "code",
   "execution_count": 14,
   "metadata": {
    "ExecuteTime": {
     "end_time": "2023-12-20T07:32:39.565121600Z",
     "start_time": "2023-12-20T07:32:39.170898600Z"
    }
   },
   "outputs": [],
   "source": [
    "d = {3.14: 'pi', 2: 'even', 'prime': 7}"
   ]
  },
  {
   "cell_type": "code",
   "execution_count": 15,
   "metadata": {
    "ExecuteTime": {
     "end_time": "2023-12-20T07:32:39.570121900Z",
     "start_time": "2023-12-20T07:32:39.173908Z"
    }
   },
   "outputs": [
    {
     "data": {
      "text/plain": "{3.14: 'pi', 2: 'even', 'prime': 7}"
     },
     "execution_count": 15,
     "metadata": {},
     "output_type": "execute_result"
    }
   ],
   "source": [
    "d"
   ]
  },
  {
   "cell_type": "markdown",
   "metadata": {},
   "source": [
    "As you can see we have a dictionary with a mix of key types - an integer, a float, and a string."
   ]
  },
  {
   "cell_type": "code",
   "execution_count": 16,
   "metadata": {
    "ExecuteTime": {
     "end_time": "2023-12-20T07:32:39.588121700Z",
     "start_time": "2023-12-20T07:32:39.180692900Z"
    }
   },
   "outputs": [
    {
     "data": {
      "text/plain": "'pi'"
     },
     "execution_count": 16,
     "metadata": {},
     "output_type": "execute_result"
    }
   ],
   "source": [
    "d[3.14]"
   ]
  },
  {
   "cell_type": "code",
   "execution_count": 17,
   "metadata": {
    "ExecuteTime": {
     "end_time": "2023-12-20T07:32:39.588121700Z",
     "start_time": "2023-12-20T07:32:39.185475Z"
    }
   },
   "outputs": [
    {
     "data": {
      "text/plain": "'even'"
     },
     "execution_count": 17,
     "metadata": {},
     "output_type": "execute_result"
    }
   ],
   "source": [
    "d[2]"
   ]
  },
  {
   "cell_type": "code",
   "execution_count": 18,
   "metadata": {
    "ExecuteTime": {
     "end_time": "2023-12-20T07:32:39.600121400Z",
     "start_time": "2023-12-20T07:32:39.189150500Z"
    }
   },
   "outputs": [
    {
     "data": {
      "text/plain": "7"
     },
     "execution_count": 18,
     "metadata": {},
     "output_type": "execute_result"
    }
   ],
   "source": [
    "d['prime']"
   ]
  },
  {
   "cell_type": "markdown",
   "metadata": {},
   "source": [
    "In general, mutable objects (like a list for example) are not hashable, and so cannot be used as keys in a dictionary."
   ]
  },
  {
   "cell_type": "code",
   "execution_count": 19,
   "metadata": {
    "ExecuteTime": {
     "end_time": "2023-12-20T07:32:39.601121400Z",
     "start_time": "2023-12-20T07:32:39.195086Z"
    }
   },
   "outputs": [],
   "source": [
    "l = [1, 2, 3]"
   ]
  },
  {
   "cell_type": "code",
   "execution_count": 20,
   "metadata": {
    "ExecuteTime": {
     "end_time": "2023-12-20T07:32:39.613121Z",
     "start_time": "2023-12-20T07:32:39.198605200Z"
    }
   },
   "outputs": [
    {
     "ename": "TypeError",
     "evalue": "unhashable type: 'list'",
     "output_type": "error",
     "traceback": [
      "\u001B[1;31m---------------------------------------------------------------------------\u001B[0m",
      "\u001B[1;31mTypeError\u001B[0m                                 Traceback (most recent call last)",
      "Cell \u001B[1;32mIn[20], line 1\u001B[0m\n\u001B[1;32m----> 1\u001B[0m d \u001B[38;5;241m=\u001B[39m {l: \u001B[38;5;241m100\u001B[39m}\n",
      "\u001B[1;31mTypeError\u001B[0m: unhashable type: 'list'"
     ]
    }
   ],
   "source": [
    "d = {l: 100}"
   ]
  },
  {
   "cell_type": "markdown",
   "metadata": {},
   "source": [
    "If you need to find out whether something is hashable or not, you can use the `hash()` function:"
   ]
  },
  {
   "cell_type": "code",
   "execution_count": null,
   "metadata": {
    "ExecuteTime": {
     "start_time": "2023-12-20T07:32:39.209434100Z"
    }
   },
   "outputs": [],
   "source": [
    "hash(100)\n",
    "hash('ali')"
   ]
  },
  {
   "cell_type": "code",
   "execution_count": null,
   "metadata": {
    "ExecuteTime": {
     "start_time": "2023-12-20T07:32:39.211435Z"
    }
   },
   "outputs": [],
   "source": [
    "hash(l)"
   ]
  },
  {
   "cell_type": "markdown",
   "metadata": {},
   "source": [
    "Tuples are immutable collections, but they may or may not be hashable depending on whether all the contained elements are hashable or not:"
   ]
  },
  {
   "cell_type": "code",
   "execution_count": 21,
   "metadata": {
    "ExecuteTime": {
     "end_time": "2023-12-20T07:32:39.639121300Z",
     "start_time": "2023-12-20T07:32:39.216580800Z"
    }
   },
   "outputs": [],
   "source": [
    "t = (1, 2, 3, 4)"
   ]
  },
  {
   "cell_type": "code",
   "execution_count": 22,
   "metadata": {
    "ExecuteTime": {
     "end_time": "2023-12-20T07:32:39.639121300Z",
     "start_time": "2023-12-20T07:32:39.219096400Z"
    }
   },
   "outputs": [
    {
     "data": {
      "text/plain": "590899387183067792"
     },
     "execution_count": 22,
     "metadata": {},
     "output_type": "execute_result"
    }
   ],
   "source": [
    "hash(t)"
   ]
  },
  {
   "cell_type": "code",
   "execution_count": 23,
   "metadata": {
    "ExecuteTime": {
     "end_time": "2023-12-20T07:32:39.640122100Z",
     "start_time": "2023-12-20T07:32:39.224108800Z"
    }
   },
   "outputs": [],
   "source": [
    "t = ([1, 2], 3, 4)"
   ]
  },
  {
   "cell_type": "code",
   "execution_count": 24,
   "metadata": {
    "ExecuteTime": {
     "start_time": "2023-12-20T07:32:39.228482100Z"
    }
   },
   "outputs": [
    {
     "ename": "TypeError",
     "evalue": "unhashable type: 'list'",
     "output_type": "error",
     "traceback": [
      "\u001B[1;31m---------------------------------------------------------------------------\u001B[0m",
      "\u001B[1;31mTypeError\u001B[0m                                 Traceback (most recent call last)",
      "Cell \u001B[1;32mIn[24], line 1\u001B[0m\n\u001B[1;32m----> 1\u001B[0m \u001B[38;5;28;43mhash\u001B[39;49m\u001B[43m(\u001B[49m\u001B[43mt\u001B[49m\u001B[43m)\u001B[49m\n",
      "\u001B[1;31mTypeError\u001B[0m: unhashable type: 'list'"
     ]
    }
   ],
   "source": [
    "hash(t)"
   ]
  },
  {
   "cell_type": "markdown",
   "metadata": {},
   "source": [
    "You'll notice that the tuple was unhashable because it contained a list, which is, itself, unhashable."
   ]
  },
  {
   "cell_type": "markdown",
   "metadata": {},
   "source": [
    "So, we can use tuples as keys sometimes:"
   ]
  },
  {
   "cell_type": "code",
   "execution_count": null,
   "metadata": {
    "ExecuteTime": {
     "start_time": "2023-12-20T07:32:39.240146800Z"
    }
   },
   "outputs": [],
   "source": [
    "d = {\n",
    "    (0, 0): \"origin\",\n",
    "    (1, 0): \"unit-x\",\n",
    "    (0, 1): \"unit-y\"\n",
    "}"
   ]
  },
  {
   "cell_type": "code",
   "execution_count": null,
   "metadata": {
    "ExecuteTime": {
     "start_time": "2023-12-20T07:32:39.242143600Z"
    }
   },
   "outputs": [],
   "source": [
    "d[(0,0)]"
   ]
  },
  {
   "cell_type": "markdown",
   "metadata": {},
   "source": [
    "We can delete a key (and it's associated value) from a dictionary using the `del` keyword, again just like we did with lists:"
   ]
  },
  {
   "cell_type": "code",
   "execution_count": 25,
   "metadata": {
    "ExecuteTime": {
     "end_time": "2023-12-20T07:32:39.664122Z",
     "start_time": "2023-12-20T07:32:39.247807800Z"
    }
   },
   "outputs": [],
   "source": [
    "d = {'a': 1, 'b': 2, 'c': 3}"
   ]
  },
  {
   "cell_type": "code",
   "execution_count": 26,
   "metadata": {
    "ExecuteTime": {
     "end_time": "2023-12-20T07:32:39.664122Z",
     "start_time": "2023-12-20T07:32:39.251420300Z"
    }
   },
   "outputs": [],
   "source": [
    "del d['a']"
   ]
  },
  {
   "cell_type": "markdown",
   "metadata": {},
   "source": [
    "You will get exception if you try to lookup or delete a non-existent key:"
   ]
  },
  {
   "cell_type": "code",
   "execution_count": 27,
   "metadata": {
    "ExecuteTime": {
     "start_time": "2023-12-20T07:32:39.257935Z"
    }
   },
   "outputs": [
    {
     "ename": "KeyError",
     "evalue": "'x'",
     "output_type": "error",
     "traceback": [
      "\u001B[1;31m---------------------------------------------------------------------------\u001B[0m",
      "\u001B[1;31mKeyError\u001B[0m                                  Traceback (most recent call last)",
      "Cell \u001B[1;32mIn[27], line 1\u001B[0m\n\u001B[1;32m----> 1\u001B[0m \u001B[43md\u001B[49m\u001B[43m[\u001B[49m\u001B[38;5;124;43m'\u001B[39;49m\u001B[38;5;124;43mx\u001B[39;49m\u001B[38;5;124;43m'\u001B[39;49m\u001B[43m]\u001B[49m\n",
      "\u001B[1;31mKeyError\u001B[0m: 'x'"
     ]
    }
   ],
   "source": [
    "d['x']"
   ]
  },
  {
   "cell_type": "code",
   "execution_count": null,
   "metadata": {
    "ExecuteTime": {
     "start_time": "2023-12-20T07:32:39.269367700Z"
    }
   },
   "outputs": [],
   "source": [
    "del d['x']"
   ]
  },
  {
   "cell_type": "markdown",
   "source": [
    "Also, we can use pop method to remove a key, and it's associated value."
   ],
   "metadata": {
    "collapsed": false
   }
  },
  {
   "cell_type": "code",
   "execution_count": null,
   "outputs": [],
   "source": [
    "my_dict = {'a': 1, 'b': 2, 'c': 3}\n",
    "my_dict.pop('b')  # This will remove the key-value pair with key 'b'\n",
    "print(my_dict)  # Output: {'a': 1, 'c': 3}"
   ],
   "metadata": {
    "collapsed": false,
    "ExecuteTime": {
     "start_time": "2023-12-20T07:32:39.271368400Z"
    }
   }
  },
  {
   "cell_type": "markdown",
   "metadata": {},
   "source": [
    "Later we'll take a look at a dictionary method that can be used to substitute a default value when we look up a non-existent key."
   ]
  },
  {
   "cell_type": "markdown",
   "metadata": {},
   "source": [
    "Many many data structures in Python use dictionaries."
   ]
  },
  {
   "cell_type": "markdown",
   "metadata": {},
   "source": [
    "For example, all the variables (symbols) we defined in our notebook are actually stored by Python in a dictionary - that's how it is able to quickly access the \"value\" associated with the variable symbol."
   ]
  },
  {
   "cell_type": "code",
   "execution_count": 28,
   "metadata": {
    "ExecuteTime": {
     "end_time": "2023-12-20T07:32:39.689120800Z",
     "start_time": "2023-12-20T07:32:39.303367300Z"
    }
   },
   "outputs": [
    {
     "data": {
      "text/plain": "{'__name__': '__main__',\n '__doc__': 'Automatically created module for IPython interactive environment',\n '__package__': None,\n '__loader__': None,\n '__spec__': None,\n '__builtin__': <module 'builtins' (built-in)>,\n '__builtins__': <module 'builtins' (built-in)>,\n '_ih': ['',\n  \"hash(100)\\nhash('ali')\",\n  \"my_dict = {'a': 1, 'b': 2, 'c': 3}\\nmy_dict.pop('b')  # This will remove the key-value pair with key 'b'\\nprint(my_dict)  # Output: {'a': 1, 'c': 3}\",\n  'globals()',\n  'globals()',\n  'person',\n  'person',\n  \"d = {'a': 1, 'b': 2, 'c': 3}\",\n  \"person = {\\n    'first_name': 'Eric',\\n    'last_name': 'Idle',\\n    'year_born': 2016 \\n}\",\n  \"person['year_born']\",\n  \"person['year_born'] = 1943\",\n  'person',\n  \"person['month_born'] = 'March'\",\n  'person',\n  \"d = {3.14: 'pi', 2: 'even', 'prime': 7}\",\n  'd',\n  'd[3.14]',\n  'd[2]',\n  \"d['prime']\",\n  'l = [1, 2, 3]',\n  'd = {l: 100}',\n  't = (1, 2, 3, 4)',\n  'hash(t)',\n  't = ([1, 2], 3, 4)',\n  'hash(t)',\n  \"d = {'a': 1, 'b': 2, 'c': 3}\",\n  \"del d['a']\",\n  \"d['x']\",\n  'globals()'],\n '_oh': {1: -5852641284776387417,\n  3: {...},\n  4: {...},\n  9: 2016,\n  11: {'first_name': 'Eric',\n   'last_name': 'Idle',\n   'year_born': 1943,\n   'month_born': 'March'},\n  13: {'first_name': 'Eric',\n   'last_name': 'Idle',\n   'year_born': 1943,\n   'month_born': 'March'},\n  15: {3.14: 'pi', 2: 'even', 'prime': 7},\n  16: 'pi',\n  17: 'even',\n  18: 7,\n  22: 590899387183067792},\n '_dh': [WindowsPath('C:/Users/Baharan/PycharmProjects/pythonProject/pythonProject/6.Dictionaries/02 - Associative Arrays and Dictionaries')],\n 'In': ['',\n  \"hash(100)\\nhash('ali')\",\n  \"my_dict = {'a': 1, 'b': 2, 'c': 3}\\nmy_dict.pop('b')  # This will remove the key-value pair with key 'b'\\nprint(my_dict)  # Output: {'a': 1, 'c': 3}\",\n  'globals()',\n  'globals()',\n  'person',\n  'person',\n  \"d = {'a': 1, 'b': 2, 'c': 3}\",\n  \"person = {\\n    'first_name': 'Eric',\\n    'last_name': 'Idle',\\n    'year_born': 2016 \\n}\",\n  \"person['year_born']\",\n  \"person['year_born'] = 1943\",\n  'person',\n  \"person['month_born'] = 'March'\",\n  'person',\n  \"d = {3.14: 'pi', 2: 'even', 'prime': 7}\",\n  'd',\n  'd[3.14]',\n  'd[2]',\n  \"d['prime']\",\n  'l = [1, 2, 3]',\n  'd = {l: 100}',\n  't = (1, 2, 3, 4)',\n  'hash(t)',\n  't = ([1, 2], 3, 4)',\n  'hash(t)',\n  \"d = {'a': 1, 'b': 2, 'c': 3}\",\n  \"del d['a']\",\n  \"d['x']\",\n  'globals()'],\n 'Out': {1: -5852641284776387417,\n  3: {...},\n  4: {...},\n  9: 2016,\n  11: {'first_name': 'Eric',\n   'last_name': 'Idle',\n   'year_born': 1943,\n   'month_born': 'March'},\n  13: {'first_name': 'Eric',\n   'last_name': 'Idle',\n   'year_born': 1943,\n   'month_born': 'March'},\n  15: {3.14: 'pi', 2: 'even', 'prime': 7},\n  16: 'pi',\n  17: 'even',\n  18: 7,\n  22: 590899387183067792},\n 'get_ipython': <bound method InteractiveShell.get_ipython of <ipykernel.zmqshell.ZMQInteractiveShell object at 0x000002107DFFD790>>,\n 'exit': <IPython.core.autocall.ZMQExitAutocall at 0x2107dffca10>,\n 'quit': <IPython.core.autocall.ZMQExitAutocall at 0x2107dffca10>,\n 'open': <function _io.open(file, mode='r', buffering=-1, encoding=None, errors=None, newline=None, closefd=True, opener=None)>,\n '_': 590899387183067792,\n '__': 7,\n '___': 'even',\n '__session__': '6.Dictionaries/02 - Associative Arrays and Dictionaries/Associative Arrays and Dictionaries.ipynb',\n '_i': \"d['x']\",\n '_ii': \"del d['a']\",\n '_iii': \"d = {'a': 1, 'b': 2, 'c': 3}\",\n '_i1': \"hash(100)\\nhash('ali')\",\n '_1': -5852641284776387417,\n 'sys': <module 'sys' (built-in)>,\n 'remove_imported_pydev_package': <function pydev_jupyter_utils.remove_imported_pydev_package()>,\n '_pydevd_bundle': <module '_pydevd_bundle' from 'C:\\\\Program Files\\\\JetBrains\\\\PyCharm 2023.2.3\\\\plugins\\\\python\\\\helpers\\\\pydev\\\\_pydevd_bundle\\\\__init__.py'>,\n 'pydev_jupyter_vars': <module 'pydev_jupyter_vars' from 'C:\\\\Program Files\\\\JetBrains\\\\PyCharm 2023.2.3\\\\plugins\\\\python\\\\helpers-pro\\\\jupyter_debug\\\\pydev_jupyter_vars.py'>,\n '_i2': \"my_dict = {'a': 1, 'b': 2, 'c': 3}\\nmy_dict.pop('b')  # This will remove the key-value pair with key 'b'\\nprint(my_dict)  # Output: {'a': 1, 'c': 3}\",\n 'my_dict': {'a': 1, 'c': 3},\n '_i3': 'globals()',\n '_3': {...},\n '_i4': 'globals()',\n '_4': {...},\n '_i5': 'person',\n '_i6': 'person',\n '_i7': \"d = {'a': 1, 'b': 2, 'c': 3}\",\n 'd': {'b': 2, 'c': 3},\n '_i8': \"person = {\\n    'first_name': 'Eric',\\n    'last_name': 'Idle',\\n    'year_born': 2016 \\n}\",\n 'person': {'first_name': 'Eric',\n  'last_name': 'Idle',\n  'year_born': 1943,\n  'month_born': 'March'},\n '_i9': \"person['year_born']\",\n '_9': 2016,\n '_i10': \"person['year_born'] = 1943\",\n '_i11': 'person',\n '_11': {'first_name': 'Eric',\n  'last_name': 'Idle',\n  'year_born': 1943,\n  'month_born': 'March'},\n '_i12': \"person['month_born'] = 'March'\",\n '_i13': 'person',\n '_13': {'first_name': 'Eric',\n  'last_name': 'Idle',\n  'year_born': 1943,\n  'month_born': 'March'},\n '_i14': \"d = {3.14: 'pi', 2: 'even', 'prime': 7}\",\n '_i15': 'd',\n '_15': {3.14: 'pi', 2: 'even', 'prime': 7},\n '_i16': 'd[3.14]',\n '_16': 'pi',\n '_i17': 'd[2]',\n '_17': 'even',\n '_i18': \"d['prime']\",\n '_18': 7,\n '_i19': 'l = [1, 2, 3]',\n 'l': [1, 2, 3],\n '_i20': 'd = {l: 100}',\n '_i21': 't = (1, 2, 3, 4)',\n 't': ([1, 2], 3, 4),\n '_i22': 'hash(t)',\n '_22': 590899387183067792,\n '_i23': 't = ([1, 2], 3, 4)',\n '_i24': 'hash(t)',\n '_i25': \"d = {'a': 1, 'b': 2, 'c': 3}\",\n '_i26': \"del d['a']\",\n '_i27': \"d['x']\",\n '_i28': 'globals()'}"
     },
     "execution_count": 28,
     "metadata": {},
     "output_type": "execute_result"
    }
   ],
   "source": [
    "globals()"
   ]
  },
  {
   "cell_type": "markdown",
   "metadata": {},
   "source": [
    "For example, when we access the `person` variable:"
   ]
  },
  {
   "cell_type": "code",
   "execution_count": 29,
   "metadata": {
    "ExecuteTime": {
     "end_time": "2023-12-20T07:32:39.695121700Z",
     "start_time": "2023-12-20T07:32:39.312562900Z"
    }
   },
   "outputs": [
    {
     "data": {
      "text/plain": "{'first_name': 'Eric',\n 'last_name': 'Idle',\n 'year_born': 1943,\n 'month_born': 'March'}"
     },
     "execution_count": 29,
     "metadata": {},
     "output_type": "execute_result"
    }
   ],
   "source": [
    "person"
   ]
  },
  {
   "cell_type": "markdown",
   "metadata": {},
   "source": [
    "Python actually retrieved the object from the `globals` dictionary:"
   ]
  },
  {
   "cell_type": "code",
   "execution_count": 30,
   "metadata": {
    "ExecuteTime": {
     "end_time": "2023-12-20T07:32:39.707120700Z",
     "start_time": "2023-12-20T07:32:39.324260900Z"
    }
   },
   "outputs": [
    {
     "data": {
      "text/plain": "{'first_name': 'Eric',\n 'last_name': 'Idle',\n 'year_born': 1943,\n 'month_born': 'March'}"
     },
     "execution_count": 30,
     "metadata": {},
     "output_type": "execute_result"
    }
   ],
   "source": [
    "globals()['person']"
   ]
  },
  {
   "cell_type": "code",
   "execution_count": 31,
   "metadata": {
    "ExecuteTime": {
     "end_time": "2023-12-20T07:32:39.707120700Z",
     "start_time": "2023-12-20T07:32:39.329279100Z"
    }
   },
   "outputs": [
    {
     "data": {
      "text/plain": "True"
     },
     "execution_count": 31,
     "metadata": {},
     "output_type": "execute_result"
    }
   ],
   "source": [
    "person is globals()['person']"
   ]
  },
  {
   "cell_type": "markdown",
   "metadata": {},
   "source": [
    "See! Same object.\n",
    "\n",
    "In Python, dictionaries are everywhere and is probably one of the most important ubiquitous structures in Python."
   ]
  }
 ],
 "metadata": {
  "kernelspec": {
   "display_name": "Python 3",
   "language": "python",
   "name": "python3"
  },
  "language_info": {
   "codemirror_mode": {
    "name": "ipython",
    "version": 3
   },
   "file_extension": ".py",
   "mimetype": "text/x-python",
   "name": "python",
   "nbconvert_exporter": "python",
   "pygments_lexer": "ipython3",
   "version": "3.9.1"
  }
 },
 "nbformat": 4,
 "nbformat_minor": 4
}
